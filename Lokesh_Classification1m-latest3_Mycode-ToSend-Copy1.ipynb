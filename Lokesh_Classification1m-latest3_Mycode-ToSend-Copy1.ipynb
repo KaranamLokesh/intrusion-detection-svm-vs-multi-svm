{
 "cells": [
  {
   "cell_type": "code",
   "execution_count": null,
   "metadata": {},
   "outputs": [],
   "source": []
  },
  {
   "cell_type": "code",
   "execution_count": null,
   "metadata": {},
   "outputs": [
    {
     "name": "stdout",
     "output_type": "stream",
     "text": [
      "Collecting pandasNote: you may need to restart the kernel to use updated packages.\n",
      "  Using cached pandas-1.3.2-cp38-cp38-win_amd64.whl (10.2 MB)\n",
      "Collecting numpy>=1.17.3\n",
      "  Using cached numpy-1.21.2-cp38-cp38-win_amd64.whl (14.0 MB)\n",
      "Collecting pytz>=2017.3\n",
      "  Using cached pytz-2021.1-py2.py3-none-any.whl (510 kB)\n",
      "Collecting python-dateutil>=2.7.3\n",
      "  Using cached python_dateutil-2.8.2-py2.py3-none-any.whl (247 kB)\n",
      "Collecting six>=1.5\n",
      "  Using cached six-1.16.0-py2.py3-none-any.whl (11 kB)\n",
      "Installing collected packages: numpy, pytz, six, python-dateutil, pandas\n",
      "Successfully installed numpy-1.21.2 pandas-1.3.2 python-dateutil-2.8.2 pytz-2021.1 six-1.16.0\n",
      "\n"
     ]
    },
    {
     "name": "stderr",
     "output_type": "stream",
     "text": [
      "ERROR: After October 2020 you may experience errors when installing or updating packages. This is because pip will change the way that it resolves dependency conflicts.\n",
      "\n",
      "We recommend you use --use-feature=2020-resolver to test your packages with the new resolver before it becomes the default.\n",
      "\n",
      "earthengine-api 0.1.275 requires httplib2shim, which is not installed.\n",
      "imbalanced-learn 0.8.0 requires scikit-learn>=0.24, but you'll have scikit-learn 0.22.1 which is incompatible.\n",
      "blitz-bayesian-pytorch 0.2.7 requires scikit-learn>=0.22.2, but you'll have scikit-learn 0.22.1 which is incompatible.\n"
     ]
    }
   ],
   "source": [
    "!pip3 install pandas --ignore-installed"
   ]
  },
  {
   "cell_type": "code",
   "execution_count": null,
   "metadata": {},
   "outputs": [
    {
     "name": "stderr",
     "output_type": "stream",
     "text": [
      "C:\\Users\\kpurn\\anaconda3\\lib\\site-packages\\numpy\\_distributor_init.py:30: UserWarning: loaded more than 1 DLL from .libs:\n",
      "C:\\Users\\kpurn\\anaconda3\\lib\\site-packages\\numpy\\.libs\\libopenblas.4SP5SUA7CBGXUEOC35YP2ASOICYYEQZZ.gfortran-win_amd64.dll\n",
      "C:\\Users\\kpurn\\anaconda3\\lib\\site-packages\\numpy\\.libs\\libopenblas.XWYDX2IKJW2NMTWSFYNGFUWKQU3LYTCZ.gfortran-win_amd64.dll\n",
      "  warnings.warn(\"loaded more than 1 DLL from .libs:\"\n",
      "C:\\Users\\kpurn\\anaconda3\\lib\\site-packages\\sklearn\\externals\\six.py:28: FutureWarning: The module is deprecated in version 0.21 and will be removed in version 0.23 since we've dropped support for Python 2.7. Please rely on the official version of six (https://pypi.org/project/six/).\n",
      "  warnings.warn(\"The module is deprecated in version 0.21 and will be removed \"\n",
      "C:\\Users\\kpurn\\anaconda3\\lib\\site-packages\\sklearn\\utils\\deprecation.py:144: FutureWarning: The sklearn.neighbors.base module is  deprecated in version 0.22 and will be removed in version 0.24. The corresponding classes / functions should instead be imported from sklearn.neighbors. Anything that cannot be imported from sklearn.neighbors is now part of the private API.\n",
      "  warnings.warn(message, FutureWarning)\n",
      "C:\\Users\\kpurn\\anaconda3\\lib\\site-packages\\sklearn\\utils\\deprecation.py:144: FutureWarning: The sklearn.ensemble.bagging module is  deprecated in version 0.22 and will be removed in version 0.24. The corresponding classes / functions should instead be imported from sklearn.ensemble. Anything that cannot be imported from sklearn.ensemble is now part of the private API.\n",
      "  warnings.warn(message, FutureWarning)\n",
      "C:\\Users\\kpurn\\anaconda3\\lib\\site-packages\\sklearn\\utils\\deprecation.py:144: FutureWarning: The sklearn.ensemble.base module is  deprecated in version 0.22 and will be removed in version 0.24. The corresponding classes / functions should instead be imported from sklearn.ensemble. Anything that cannot be imported from sklearn.ensemble is now part of the private API.\n",
      "  warnings.warn(message, FutureWarning)\n",
      "C:\\Users\\kpurn\\anaconda3\\lib\\site-packages\\sklearn\\utils\\deprecation.py:144: FutureWarning: The sklearn.ensemble.forest module is  deprecated in version 0.22 and will be removed in version 0.24. The corresponding classes / functions should instead be imported from sklearn.ensemble. Anything that cannot be imported from sklearn.ensemble is now part of the private API.\n",
      "  warnings.warn(message, FutureWarning)\n",
      "C:\\Users\\kpurn\\anaconda3\\lib\\site-packages\\sklearn\\externals\\joblib\\__init__.py:15: FutureWarning: sklearn.externals.joblib is deprecated in 0.21 and will be removed in 0.23. Please import this functionality directly from joblib, which can be installed with: pip install joblib. If this warning is raised when loading pickled models, you may need to re-serialize those models with scikit-learn 0.21+.\n",
      "  warnings.warn(msg, category=FutureWarning)\n"
     ]
    },
    {
     "name": "stdout",
     "output_type": "stream",
     "text": [
      "Automatically created module for IPython interactive environment\n"
     ]
    }
   ],
   "source": [
    "import numpy as np\n",
    "\n",
    "from sklearn.svm import SVC\n",
    "\n",
    "from sklearn.model_selection import train_test_split\n",
    "\n",
    "from sklearn.feature_selection import SelectKBest\n",
    "from sklearn.feature_selection import f_classif\n",
    "from sklearn.preprocessing import LabelEncoder\n",
    "from sklearn.preprocessing import MinMaxScaler\n",
    "\n",
    "\n",
    "\n",
    "from mlxtend.classifier import EnsembleVoteClassifier\n",
    "from sklearn.multiclass import OneVsRestClassifier\n",
    "from sklearn.multiclass import OneVsOneClassifier\n",
    "\n",
    "from sklearn.preprocessing import StandardScaler\n",
    "from imblearn.over_sampling import SMOTE\n",
    "from imblearn.under_sampling import RandomUnderSampler\n",
    "\n",
    "import matplotlib.pyplot as plt\n",
    "import pandas as pd\n",
    "\n",
    "from skimage import feature\n",
    "from skimage.feature import greycomatrix,greycoprops\n",
    "from sklearn import neighbors, datasets, preprocessing\n",
    "from skimage import data\n",
    "from skimage.util import img_as_ubyte\n",
    "from skimage.filters.rank import entropy\n",
    "from skimage.feature import hog\n",
    "from skimage import data, exposure\n",
    "from skimage.morphology import disk\n",
    "\n",
    "#Packages for training\n",
    "\n",
    "import glob\n",
    "from sklearn.model_selection import train_test_split, cross_val_score\n",
    "from sklearn.model_selection import KFold, StratifiedKFold\n",
    "from sklearn.metrics import confusion_matrix, accuracy_score, classification_report,mean_squared_error,mean_absolute_error\n",
    "from sklearn.linear_model import LogisticRegression,LinearRegression\n",
    "from sklearn.tree import DecisionTreeClassifier\n",
    "from sklearn.ensemble import RandomForestClassifier\n",
    "from sklearn.neighbors import KNeighborsClassifier\n",
    "from sklearn.discriminant_analysis import LinearDiscriminantAnalysis\n",
    "from sklearn.naive_bayes import GaussianNB\n",
    "from sklearn.svm import SVC\n",
    "from sklearn.ensemble import VotingClassifier\n",
    "import seaborn as sns; sns.set()\n",
    "from sklearn.decomposition import PCA, IncrementalPCA\n",
    "from sklearn.discriminant_analysis import LinearDiscriminantAnalysis\n",
    "\n",
    "# from __future__ import print_function\n",
    "\n",
    "from sklearn import datasets\n",
    "from sklearn.model_selection import train_test_split\n",
    "from sklearn.model_selection import GridSearchCV,RandomizedSearchCV\n",
    "from sklearn.metrics import classification_report\n",
    "from sklearn.svm import SVC\n",
    "\n",
    "from sklearn.metrics import confusion_matrix\n",
    "\n",
    "# For ROC\n",
    "print(__doc__)\n",
    "\n",
    "import numpy as np\n",
    "import matplotlib.pyplot as plt\n",
    "from itertools import cycle\n",
    "from sklearn import model_selection\n",
    "from sklearn import svm, datasets\n",
    "from sklearn.metrics import roc_curve, auc\n",
    "from sklearn.model_selection import train_test_split\n",
    "from sklearn.preprocessing import label_binarize\n",
    "from sklearn.multiclass import OneVsRestClassifier\n",
    "from scipy import interp\n",
    "\n",
    "\n",
    "from sklearn import svm, datasets\n",
    "from sklearn import metrics\n",
    "from sklearn.linear_model import LogisticRegression\n",
    "from sklearn.model_selection import train_test_split\n",
    "from sklearn.datasets import load_breast_cancer\n",
    "import matplotlib.pyplot as plt\n",
    "#from ggplot import *\n",
    "\n",
    "# For Training models\n",
    "\n",
    "import h5py\n",
    "import numpy as np\n",
    "import os\n",
    "import glob\n",
    "import cv2\n",
    "from matplotlib import pyplot\n",
    "from sklearn.model_selection import train_test_split, cross_val_score\n",
    "from sklearn.model_selection import KFold, StratifiedKFold\n",
    "from sklearn.metrics import confusion_matrix, accuracy_score, classification_report\n",
    "from sklearn.linear_model import LogisticRegression\n",
    "from sklearn.tree import DecisionTreeClassifier\n",
    "from sklearn.ensemble import RandomForestClassifier, GradientBoostingClassifier\n",
    "from sklearn.neighbors import KNeighborsClassifier\n",
    "from sklearn.discriminant_analysis import LinearDiscriminantAnalysis\n",
    "from sklearn.naive_bayes import GaussianNB\n",
    "from sklearn.svm import SVC\n",
    "\n",
    "# from skrvm import RVC\n",
    "\n",
    "import csv\n",
    "from scipy import stats\n",
    "\n",
    "from sklearn.metrics import mean_squared_error,r2_score\n",
    "# from sklearn.externals import joblib\n",
    "from sklearn.ensemble import AdaBoostClassifier\n",
    "\n",
    "\n",
    "# filter all the warnings\n",
    "import warnings\n",
    "warnings.filterwarnings('ignore')\n",
    "\n",
    "from time import sleep\n",
    "\n",
    "# Feature selection:\n",
    "from sklearn.feature_selection import RFECV, RFE\n",
    "from sklearn.feature_selection import SelectFromModel\n",
    "from sklearn.feature_selection import SelectKBest\n",
    "from sklearn.feature_selection import chi2\n",
    "from sklearn.pipeline import make_pipeline\n",
    "# from skrebate import ReliefF\n",
    "# import ibmdbpy.feature_selection.gain_ratio\n",
    "from sklearn.metrics.pairwise import pairwise_distances\n",
    "import math\n",
    "from random import randint\n",
    "from copy import deepcopy\n",
    "from fractions import Fraction\n",
    "from scipy.stats import rankdata\n",
    "from sklearn.ensemble import ExtraTreesClassifier\n",
    "\n",
    "import pickle\n",
    "# %run GainRatioClass.ipynb\n",
    "\n",
    "from sklearn.svm import SVR\n",
    "from sklearn.linear_model import Lasso\n",
    "# Lables:\n",
    "# 1: class2\n",
    "# 2: class3\n",
    "# 3: class5\n",
    "# 4: class4\n",
    "# 5: class10\n"
   ]
  },
  {
   "cell_type": "code",
   "execution_count": 3,
   "metadata": {},
   "outputs": [
    {
     "name": "stdout",
     "output_type": "stream",
     "text": [
      "['2018-BF-1', '2018-BF-13', '2018-BF-2', '2018-BF-3', '2018-BF-4', '2018-BF-5', '2018-BF-6', '2018-BF-7', '2018-BF-8', '2018-BF-9', '2018-L01-1', '2018-L01-2', '2018-L01-3', '2018-L02-1', '2018-L02-2', '2018-L02-3', '2018-L03-1', '2018-L03-2', '2018-L03-3', '2018-L03-4', '2018-L04-1', '2018-L04-2', '2018-L04-3', '2018-L06-1', '2018-L06-2', '2018-L06-3', '2018-L06-4', '2018-L07-1', '2018-L07-2', '2018-L07-3', '2018-L09-1', '2018-L09-2', '2018-L09-3', '2018-L11-1', '2018-L11-2', '2018-L11-3', '2018-L15-1', '2018-L15-2', '2018-L15-3', '2018-L16-1', '2018-L16-2', '2018-L16-3', '2018-L20-1', '2018-L20-2', '2018-L20-3', '2018-L21-1', '2018-L21-2', '2018-L21-3', '2018-L22-1', '2018-L22-2', '2018-L22-3', '2018-L25-1', '2018-L25-2', '2018-L25-3', '2018-L26-1', '2018-L26-2', '2018-L26-3', '2018-L27-1', '2018-L27-2', '2018-L27-3', '2019-L01-1', '2019-L01-2', '2019-L02-1', '2019-L03-1', '2019-L05-1', '2019-L06-1', '2019-L07-1', '2019-L08-1', '2019-L08-2', '2019-L09-1', '2019-L10-1', '2019-L11-1', '2019-L12-1', '2019-L12-4', '2019-L13-1', '2019-L14-1', '2019-L14-3', '2019-L15-1', '2019-L16-1', '2019-L16-2', '2019-L17-1', '2019-L18-1', '2019-L18-3', '2019-L19-1', '2019-L19-3', '2019-L19-4', '2019-L20-1', '2019-L21-1']\n",
      "Total number of tapes 88\n"
     ]
    }
   ],
   "source": [
    "# data1m = pd.read_csv('C:/Users/pcuv48/Desktop/2020_Data/1m/FinalGT1m_Combined.csv') # Training Data\n",
    "data1m = pd.read_csv('FinalGT1m_2m_5m_Combined_Train+Test.csv')\n",
    "\n",
    "# data1m = pd.read_csv('C:/Users/pcuv48/Desktop/2020_Data/1m/FinalGT1m_Combined_ForHistMatch.csv')  # Training + Testing Data\n",
    "\n",
    "subsetting = data1m['Subsetting'].astype('category')\n",
    "tape=subsetting.cat.categories.tolist()\n",
    "print (tape)\n",
    "print(\"Total number of tapes\",len(tape))\n",
    "\n",
    "DataCategory = data1m['DataType'].astype('category')\n",
    "DataClass = data1m['Class5'].astype('category')"
   ]
  },
  {
   "cell_type": "code",
   "execution_count": 4,
   "metadata": {},
   "outputs": [],
   "source": [
    "# # Data location address:\n",
    "# DataAddress = \"C:/Users/parth/Desktop/2020_Data/1m/FeaturesAndLabelsStored1m/LBP_Radius/LBP3/\"\n",
    "# LabelAddress = \"C:/Users/parth/Desktop/2020_Data/1m/FeaturesAndLabelsStored1m/LBP_Radius/LBP3/CombinedLabel/\"\n",
    "# AnalysisAddress = \"C:/Users/parth/Desktop/2020_Data/1m/FeaturesAndLabelsStored1m/LBP_Radius/LBP3/Analysis/Combined/Class5/\""
   ]
  },
  {
   "cell_type": "code",
   "execution_count": 5,
   "metadata": {},
   "outputs": [],
   "source": [
    "# Loading Features and Label vectors\n",
    "global_features_load = np.load(\"Data_81Features.npy\")\n",
    "global_label5 = np.load(\"label_70_Features.npy\")     # Class-5 labels\n"
   ]
  },
  {
   "cell_type": "code",
   "execution_count": 6,
   "metadata": {},
   "outputs": [],
   "source": [
    "#AnalysisAddress = \"C:/Users/parth/Desktop/2020_Data/ForLokesh/Dataset_WithoutShape/WithLBP2/\""
   ]
  },
  {
   "cell_type": "code",
   "execution_count": 7,
   "metadata": {},
   "outputs": [],
   "source": [
    "# Based on a Class problem, assigning label variable:\n",
    "finalLabel = global_label5\n",
    "# finalLabel = npy_percet"
   ]
  },
  {
   "cell_type": "code",
   "execution_count": 8,
   "metadata": {},
   "outputs": [],
   "source": [
    "global_features_load = global_features_load.reshape(88,50,81)"
   ]
  },
  {
   "cell_type": "code",
   "execution_count": 9,
   "metadata": {},
   "outputs": [
    {
     "data": {
      "text/plain": [
       "array([0.00251967, 0.87502033, 0.37127471, 0.56503849, 0.03543178,\n",
       "       0.41697911, 0.54696147, 0.92090421, 0.97432666, 0.01380797,\n",
       "       0.96564513, 0.89326376, 0.44244155, 0.0109425 , 0.01960784,\n",
       "       0.13737136, 0.44693719, 0.59546819, 0.51098901, 0.68880372,\n",
       "       0.67672042, 0.50857606, 0.55288462, 0.68278555, 0.51976875,\n",
       "       0.43560197, 0.4741784 , 0.68870307, 0.49990318, 0.56646787,\n",
       "       0.5       , 0.3517622 , 0.65156222, 0.53955738, 0.52083333,\n",
       "       0.31069321, 0.601707  , 0.73018846, 0.48557718, 0.70834722,\n",
       "       0.85681839, 0.81390545, 0.77221781, 0.7452709 , 0.70481418,\n",
       "       0.66197248, 0.58621538, 0.41684737, 0.16811997, 0.07446993,\n",
       "       0.12318974, 0.21762155, 0.42340249, 0.5739604 , 0.66743006,\n",
       "       0.77933351, 0.8122513 , 0.71163325, 0.67315704, 0.71288084,\n",
       "       0.49946484, 0.64777282, 0.6479662 , 0.70343138, 0.42984309,\n",
       "       0.72134388, 0.8368821 , 0.76609739, 0.7653543 , 0.81170698,\n",
       "       0.32717188, 0.13791745, 0.17535997, 0.61905824, 0.70730805,\n",
       "       0.79586546, 0.72377532, 0.72955482, 0.45349417, 0.41122867,\n",
       "       0.52961846])"
      ]
     },
     "execution_count": 9,
     "metadata": {},
     "output_type": "execute_result"
    }
   ],
   "source": [
    "global_features_load[0][0]"
   ]
  },
  {
   "cell_type": "code",
   "execution_count": 10,
   "metadata": {},
   "outputs": [
    {
     "name": "stdout",
     "output_type": "stream",
     "text": [
      "Total number of dimension Before PCA or LDA: 81\n",
      "Total number of data: 4400\n"
     ]
    }
   ],
   "source": [
    "data1 = []      # It will store all images in 1D array\n",
    "data2 = []      # It will store number of images per tape\n",
    "num1 = 0\n",
    "for i in range(len(global_features_load)):\n",
    "    num1 = len(global_features_load[i])\n",
    "    data2.append(num1)\n",
    "\n",
    "for z in global_features_load:\n",
    "    for i in z:\n",
    "        data1.append(i)\n",
    "print (\"Total number of dimension Before PCA or LDA:\",len(data1[0]))\n",
    "print (\"Total number of data:\",len(data1))"
   ]
  },
  {
   "cell_type": "code",
   "execution_count": null,
   "metadata": {},
   "outputs": [],
   "source": []
  },
  {
   "cell_type": "code",
   "execution_count": 11,
   "metadata": {},
   "outputs": [],
   "source": [
    "# Getting 1D array of all labels- class#\n",
    "\n",
    "label1 = []      # It will store all images in 1D array\n",
    "label2 = []      # It will store number of images per tape\n",
    "num1 = 0\n",
    "for i in range(len(finalLabel)):\n",
    "    num1 = len(finalLabel[i])\n",
    "    label2.append(num1)\n",
    "\n",
    "for z in finalLabel:\n",
    "    for i in z:\n",
    "        label1.append(i)"
   ]
  },
  {
   "cell_type": "code",
   "execution_count": 13,
   "metadata": {},
   "outputs": [
    {
     "name": "stdout",
     "output_type": "stream",
     "text": [
      "[STATUS] splitted train and test data...\n",
      "Train data  : (3520, 81)\n",
      "Test data   : (880, 81)\n",
      "Train labels: (3520,)\n",
      "Test labels : (880,)\n"
     ]
    }
   ],
   "source": [
    "# train_test_split size\n",
    "test_size = 0.2\n",
    "\n",
    "# seed for reproducing same results\n",
    "seed = 9\n",
    "\n",
    "# split the training and testing data \n",
    "(trainDataGlobal, testDataGlobal, trainGroundsGlobal, testGroundsGlobal) = train_test_split(np.array(data1),\n",
    "                                                                                          np.array(label1),\n",
    "                                                                                          test_size=test_size,\n",
    "                                                                                          random_state=seed,\n",
    "                                                                                           stratify = label1)\n",
    "\n",
    "print (\"[STATUS] splitted train and test data...\")\n",
    "print (\"Train data  : {}\".format(trainDataGlobal.shape))\n",
    "print (\"Test data   : {}\".format(testDataGlobal.shape))\n",
    "print (\"Train labels: {}\".format(trainGroundsGlobal.shape))\n",
    "print (\"Test labels : {}\".format(testGroundsGlobal.shape))"
   ]
  },
  {
   "cell_type": "code",
   "execution_count": 14,
   "metadata": {},
   "outputs": [],
   "source": [
    "# Assigning variable name as per my code\n",
    "data1 = []\n",
    "label1 = []\n",
    "data1 = trainDataGlobal\n",
    "label1 = trainGroundsGlobal\n",
    "\n"
   ]
  },
  {
   "cell_type": "code",
   "execution_count": 15,
   "metadata": {},
   "outputs": [],
   "source": [
    "testData = testDataGlobal\n",
    "testLabel = testGroundsGlobal"
   ]
  },
  {
   "cell_type": "code",
   "execution_count": 16,
   "metadata": {},
   "outputs": [],
   "source": [
    "# from sklearn.neighbors import LocalOutlierFactor\n",
    "# lof = LocalOutlierFactor(n_neighbors=2)\n",
    "# yhat = lof.fit_predict(data1)\n",
    "# mask = yhat != -1\n",
    "# data1, label1 = data1[mask, :], label1[mask]"
   ]
  },
  {
   "cell_type": "code",
   "execution_count": 17,
   "metadata": {},
   "outputs": [],
   "source": [
    "# pca = PCA()\n",
    "# data1 = pca.fit_transform(data1)\n",
    "# testData = pca.transform(testData)"
   ]
  },
  {
   "cell_type": "code",
   "execution_count": 18,
   "metadata": {},
   "outputs": [],
   "source": [
    "# under_sampler = BalanceCascade(random_state=0)\n",
    "# data1,label1 = under_sampler.fit_resample(data1, label1)"
   ]
  },
  {
   "cell_type": "code",
   "execution_count": 19,
   "metadata": {},
   "outputs": [
    {
     "data": {
      "text/plain": [
       "(3520, 3520)"
      ]
     },
     "execution_count": 19,
     "metadata": {},
     "output_type": "execute_result"
    }
   ],
   "source": [
    "len(data1),len(label1)"
   ]
  },
  {
   "cell_type": "code",
   "execution_count": 20,
   "metadata": {},
   "outputs": [],
   "source": [
    "def remove_outliers_bis(arr, k):\n",
    "    mask = np.ones((arr.shape[0],), dtype=np.bool)\n",
    "    mu, sigma = np.mean(arr, axis=0), np.std(arr, axis=0, ddof=1)\n",
    "    for j in range(arr.shape[1]):\n",
    "        col = arr[:, j]\n",
    "        mask[mask] &= np.abs((col[mask] - mu[j]) / sigma[j]) < k\n",
    "    return arr[mask]"
   ]
  },
  {
   "cell_type": "code",
   "execution_count": 21,
   "metadata": {},
   "outputs": [],
   "source": [
    "x = remove_outliers_bis(data1,3)"
   ]
  },
  {
   "cell_type": "code",
   "execution_count": null,
   "metadata": {},
   "outputs": [],
   "source": []
  },
  {
   "cell_type": "code",
   "execution_count": 22,
   "metadata": {},
   "outputs": [
    {
     "data": {
      "text/plain": [
       "(3520, 81)"
      ]
     },
     "execution_count": 22,
     "metadata": {},
     "output_type": "execute_result"
    }
   ],
   "source": [
    "data1.shape"
   ]
  },
  {
   "cell_type": "code",
   "execution_count": 23,
   "metadata": {},
   "outputs": [],
   "source": [
    "# Creating Different Dataset for bi-class problem\n",
    "\n",
    "Data12 = []\n",
    "Data23 = []\n",
    "Data34 = []\n",
    "Data45 = []\n",
    "Data15 = []\n",
    "\n",
    "Label12 = []\n",
    "Label23 = []\n",
    "Label34 = []\n",
    "Label45 = []\n",
    "Label15 = []\n",
    "\n",
    "# Creating dataset for class1 and class2 only\n",
    "for i in range(len(data1)):\n",
    "    if (label1[i] == 1 or label1[i] == 2):\n",
    "        Data12.append(data1[i])\n",
    "        Label12.append(label1[i])\n",
    "\n",
    "# Creating dataset for class2 and class3 only\n",
    "for i in range(len(data1)):\n",
    "    if (label1[i] == 2 or label1[i] == 3):\n",
    "        Data23.append(data1[i])\n",
    "        Label23.append(label1[i])\n",
    "        \n",
    "# Creating dataset for class3 and class4 only\n",
    "for i in range(len(data1)):\n",
    "    if (label1[i] == 3 or label1[i] == 4):\n",
    "        Data34.append(data1[i])\n",
    "        Label34.append(label1[i])\n",
    "        \n",
    "# Creating dataset for class4 and class5 only\n",
    "for i in range(len(data1)):\n",
    "    if (label1[i] == 4 or label1[i] == 5):\n",
    "        Data45.append(data1[i])\n",
    "        Label45.append(label1[i])\n",
    "\n",
    "# Creating dataset for class1 and class5 only\n",
    "for i in range(len(data1)):\n",
    "    if (label1[i] == 1 or label1[i] == 5):\n",
    "        Data15.append(data1[i])\n",
    "        Label15.append(label1[i])\n",
    "        "
   ]
  },
  {
   "cell_type": "code",
   "execution_count": 24,
   "metadata": {},
   "outputs": [
    {
     "data": {
      "text/plain": [
       "(3520, 81)"
      ]
     },
     "execution_count": 24,
     "metadata": {},
     "output_type": "execute_result"
    }
   ],
   "source": [
    "data1.shape"
   ]
  },
  {
   "cell_type": "code",
   "execution_count": null,
   "metadata": {},
   "outputs": [],
   "source": []
  },
  {
   "cell_type": "code",
   "execution_count": 25,
   "metadata": {},
   "outputs": [
    {
     "name": "stdout",
     "output_type": "stream",
     "text": [
      "2033\n",
      "1059\n",
      "832\n",
      "1048\n",
      "2068\n"
     ]
    }
   ],
   "source": [
    "# Number of dataset for each two classes problem\n",
    "print (len(Label12))\n",
    "print (len(Label23))\n",
    "print (len(Label34))\n",
    "print (len(Label45))\n",
    "print (len(Label15))"
   ]
  },
  {
   "cell_type": "code",
   "execution_count": 26,
   "metadata": {},
   "outputs": [],
   "source": [
    "def featureRanking(features):\n",
    "    featureSequence = list(range(len(features)))\n",
    "    sortFeatures = []\n",
    "    for f in range(len(features)):\n",
    "        for i in range(len(features)):\n",
    "            if(featureSequence[f] == features[i]):\n",
    "                sort1 = i\n",
    "                sortFeatures.append(sort1)\n",
    "                break\n",
    "#     print (sortFeatures)\n",
    "    return sortFeatures"
   ]
  },
  {
   "cell_type": "code",
   "execution_count": 27,
   "metadata": {},
   "outputs": [],
   "source": [
    "# Defining selected importance \n",
    "def selectRFEImportance(order1, X, k=5):\n",
    "    return X[:,order1[::1][:k]]"
   ]
  },
  {
   "cell_type": "code",
   "execution_count": 28,
   "metadata": {},
   "outputs": [
    {
     "name": "stdout",
     "output_type": "stream",
     "text": [
      "[STATUS]Optimal number of features after RFECV:  53\n",
      "Features in descending order based on ranking:  [1, 3, 7, 8, 11, 12, 15, 19, 20, 21, 23, 24, 29, 30, 31, 32, 35, 37, 38, 39, 40, 41, 43, 44, 45, 46, 47, 48, 50, 51, 52, 55, 56, 57, 59, 60, 61, 62, 63, 65, 67, 68, 69, 70, 71, 72, 73, 74, 75, 76, 78, 79, 80, 6, 53, 77, 16, 0, 18, 36, 49, 64, 10, 28, 4, 22, 27, 2, 54, 58, 33, 26, 9, 14, 17, 66, 5, 34, 42, 25, 13]\n",
      "Features in descending order based on ranking using RFE:  [48, 47, 45, 17, 19, 41, 38, 32, 16, 14, 20, 33, 29, 24, 7, 2, 10, 28, 15, 49, 34, 40, 44, 8, 13, 39, 43, 0, 35, 52, 6, 42, 30, 23, 21, 11, 27, 1, 18, 26, 50, 4, 37, 31, 9, 25, 36, 3, 46, 12, 5, 22, 51]\n",
      "Features in descending order based on ranking (Final):  [75, 74, 72, 37, 39, 68, 63, 56, 35, 31, 40, 57, 51, 45, 19, 7, 23, 50, 32, 76, 59, 67, 71, 20, 30, 65, 70, 1, 60, 80, 15, 69, 52, 44, 41, 24, 48, 3, 38, 47, 78, 11, 62, 55, 21, 46, 61, 8, 73, 29, 12, 43, 79, 6, 53, 77, 16, 0, 18, 36, 49, 64, 10, 28, 4, 22, 27, 2, 54, 58, 33, 26, 9, 14, 17, 66, 5, 34, 42, 25, 13]\n"
     ]
    },
    {
     "data": {
      "image/png": "[encoded data removed]",
      "text/plain": [
       "<Figure size 432x288 with 1 Axes>"
      ]
     },
     "metadata": {},
     "output_type": "display_data"
    },
    {
     "name": "stdout",
     "output_type": "stream",
     "text": [
      "The selected features are:\n",
      "53\n"
     ]
    }
   ],
   "source": [
    "# Feature selection method - Recursive Feature Elimination (RFECV)\n",
    "estimator = SVC(kernel='linear')\n",
    "selector2 = RFECV(estimator, step = 1, scoring = 'accuracy', cv = StratifiedKFold(n_splits=10))\n",
    "# selector2 = RFE(estimator, n_features_to_select=1)\n",
    "selector = selector2.fit(data1,label1)\n",
    "print(\"[STATUS]Optimal number of features after RFECV: \", selector.n_features_)\n",
    "\n",
    "rank = selector.ranking_\n",
    "ranks = sorted(range(len(rank)),key=rank.__getitem__)\n",
    "print(\"Features in descending order based on ranking: \",ranks)\n",
    "\n",
    "# To get ranking of selected features from RFECV using RFE\n",
    "################################################\n",
    "fea = []\n",
    "fea = selectRFEImportance(ranks,np.array(data1),selector.n_features_) # Change \"k\" as per optimal number of features \"selector.n_features_\" or manually. \n",
    "selector3 = RFE(estimator, n_features_to_select=1)\n",
    "selector4 = selector3.fit(fea,label1)\n",
    "\n",
    "rank1 = selector4.ranking_\n",
    "ranks1 = sorted(range(len(rank1)),key=rank1.__getitem__)\n",
    "print(\"Features in descending order based on ranking using RFE: \",ranks1)\n",
    "temp = []\n",
    "for i in range(len(rank1)):\n",
    "    temp.append(ranks[ranks1[i]])\n",
    "\n",
    "for i in range(len(rank1)):\n",
    "    ranks[i] = temp[i] \n",
    "###################################################\n",
    "\n",
    "print(\"Features in descending order based on ranking (Final): \",ranks)\n",
    "OriginalRank6 = featureRanking(ranks)\n",
    "# print (OriginalRank6)\n",
    "\n",
    "# Defining selected importance \n",
    "def selectRFEImportance(order1, X, k=5):\n",
    "    return X[:,order1[::1][:k]]\n",
    "    \n",
    "# Getting n selected features for RFE:\n",
    "features6 = []\n",
    "features6Rank = []\n",
    "for i in range(len(data1[0])):\n",
    "    features6Rank.append(ranks[:i+1])\n",
    "    features6.append(selectRFEImportance(ranks,np.array(data1),i+1))\n",
    "    \n",
    "\n",
    "# text = open(AnalysisAddress+\"/FeatureRankings.txt\",\"a\")\n",
    "# text.write(\"\\n\\nOptimal number of features after RFECV:\\n %i\"%selector.n_features_)\n",
    "# text.write(\"\\nRecursive Feature Elimination Rankings Cross -Validation Rankings:\\n %s\"%ranks)\n",
    "# text.write(\"\\n\\nOriginal Recursive Feature Elimination Cross -Validation Rankings:\\n %s\"%OriginalRank6)\n",
    "# text.close()\n",
    "\n",
    "# Plot number of features VS. cross-validation scores\n",
    "plt.figure()\n",
    "plt.title(\"Reccurssive Feature Elimination based Feature Selection\")\n",
    "plt.xlabel(\"Number of features selected\")\n",
    "plt.ylabel(\"Cross validation score (nb of correct classifications)\")\n",
    "plt.plot(range(1, len(selector.grid_scores_) + 1), selector.grid_scores_)\n",
    "plt.savefig('FeatureImportance_RFE.png')\n",
    "plt.show()\n",
    "\n",
    "\n",
    "# Getting selected features\n",
    "\n",
    "SelectedFeatures = []\n",
    "for i in range(len(data1)):\n",
    "    SelectedFeatures.append([f for f,s in zip(data1[i], selector.support_) if s])\n",
    "print('The selected features are:')\n",
    "# print ('{}'.format(SelectedFeatures))\n",
    "print(len(SelectedFeatures[0]))\n",
    "data0 = SelectedFeatures\n",
    "data0 = np.array(data0)"
   ]
  },
  {
   "cell_type": "code",
   "execution_count": null,
   "metadata": {},
   "outputs": [],
   "source": []
  },
  {
   "cell_type": "code",
   "execution_count": 105,
   "metadata": {
    "scrolled": true
   },
   "outputs": [
    {
     "data": {
      "image/png": "[encoded data removed]",
      "text/plain": [
       "<Figure size 432x288 with 1 Axes>"
      ]
     },
     "metadata": {},
     "output_type": "display_data"
    }
   ],
   "source": [
    "# Validation of each feature selection methods\n",
    "svc = SVC(probability=True,class_weight='balanced')\n",
    "clf = svc\n",
    "# clf = RandomForestClassifier()\n",
    "\n",
    "# variables to hold the results and names\n",
    "cv_results6 = []\n",
    "scoring = \"accuracy\"\n",
    "\n",
    "# kfold cross validation:\n",
    "# kfold = KFold(n_splits=10)\n",
    "\n",
    "# # Stratified kfold cross validation:\n",
    "kfold = StratifiedKFold(n_splits=10)\n",
    "\n",
    "for i in range(len(features6)):\n",
    "#     print (i)\n",
    "    \n",
    "    cv_result6 = cross_val_score(clf, features6[i], label1, cv=kfold, scoring=scoring)\n",
    "    cv_results6.append(cv_result6.mean())\n",
    "\n",
    "    df = pd.read_csv('RFECV_Score.csv')\n",
    "    for j in range(10):\n",
    "        df.at[j+(i*10),'Epoch']=i+1\n",
    "        df.at[j+(i*10),'Iteration']=j+1\n",
    "        df.at[j+(i*10),'Score']=cv_result6[j]  \n",
    "        df.at[j+(i*10),'MeanScore']=cv_result6.mean()   \n",
    "    df.to_csv('RFECV_Score.csv',index = False)\n",
    "    \n",
    "\n",
    "# Plot number of features VS. cross-validation scores with selected features-6\n",
    "plt.figure()\n",
    "plt.title(\"Reccursive Feature Elemination based feature selection\")\n",
    "plt.xlabel(\"Number of features selected\")\n",
    "plt.ylabel(\"Cross validation score\")\n",
    "plt.plot(range(1, len(features6) + 1), cv_results6)\n",
    "plt.savefig('FeatureValidation_RFE.png')\n",
    "plt.show()\n",
    "\n"
   ]
  },
  {
   "cell_type": "code",
   "execution_count": 106,
   "metadata": {},
   "outputs": [
    {
     "data": {
      "text/plain": [
       "41"
      ]
     },
     "execution_count": 106,
     "metadata": {},
     "output_type": "execute_result"
    }
   ],
   "source": [
    "\n",
    "cv_results6.index(max(cv_results6))"
   ]
  },
  {
   "cell_type": "code",
   "execution_count": 45,
   "metadata": {},
   "outputs": [
    {
     "data": {
      "text/plain": [
       "(0.7815340909090909, 0.78125)"
      ]
     },
     "execution_count": 45,
     "metadata": {},
     "output_type": "execute_result"
    }
   ],
   "source": [
    "cv_results6[41],cv_results6[42]"
   ]
  },
  {
   "cell_type": "code",
   "execution_count": 74,
   "metadata": {},
   "outputs": [],
   "source": [
    "x =cv_results6.index(max(cv_results6))"
   ]
  },
  {
   "cell_type": "code",
   "execution_count": 29,
   "metadata": {},
   "outputs": [
    {
     "data": {
      "text/plain": [
       "41"
      ]
     },
     "execution_count": 29,
     "metadata": {},
     "output_type": "execute_result"
    }
   ],
   "source": [
    "##select the top 42 features which give high cross validation score\n",
    "ranks = ranks1[:41]\n",
    "len(ranks)"
   ]
  },
  {
   "cell_type": "code",
   "execution_count": 30,
   "metadata": {},
   "outputs": [
    {
     "data": {
      "text/plain": [
       "41"
      ]
     },
     "execution_count": 30,
     "metadata": {},
     "output_type": "execute_result"
    }
   ],
   "source": [
    "cols = ranks\n",
    "len(cols)"
   ]
  },
  {
   "cell_type": "code",
   "execution_count": 31,
   "metadata": {},
   "outputs": [],
   "source": [
    "# Transforming bi-class based dataset with selected features only\n",
    "dataImp = Data12\n",
    "dataImp = np.array(dataImp)\n",
    "dta = list( dataImp[:,i] for i in cols )\n",
    "dta = np.transpose(dta)\n",
    "Data12 = dta\n",
    "\n",
    "dataImp = Data23\n",
    "dataImp = np.array(dataImp)\n",
    "dta = list( dataImp[:,i] for i in cols )\n",
    "dta = np.transpose(dta)\n",
    "Data23 = dta\n",
    "\n",
    "dataImp = Data34\n",
    "dataImp = np.array(dataImp)\n",
    "dta = list( dataImp[:,i] for i in cols )\n",
    "dta = np.transpose(dta)\n",
    "Data34 = dta\n",
    "\n",
    "dataImp = Data45\n",
    "dataImp = np.array(dataImp)\n",
    "dta = list( dataImp[:,i] for i in cols )\n",
    "dta = np.transpose(dta)\n",
    "Data45 = dta\n",
    "\n",
    "dataImp = Data15\n",
    "dataImp = np.array(dataImp)\n",
    "dta = list( dataImp[:,i] for i in cols )\n",
    "dta = np.transpose(dta)\n",
    "Data15 = dta"
   ]
  },
  {
   "cell_type": "code",
   "execution_count": 32,
   "metadata": {},
   "outputs": [
    {
     "name": "stdout",
     "output_type": "stream",
     "text": [
      "41\n"
     ]
    }
   ],
   "source": [
    "dataImp = data1\n",
    "dataImp = np.array(dataImp)\n",
    "# Creating dataset with only selected ELEVEN features in main model. Features - 1, 7, 23, 25, 29, 32, 38, 40, 41, 42, 48.\n",
    "# dta = list( dataImp[:,i] for i in [26, 45, 46, 48, 50, 55, 56] )  #2m Features\n",
    "# dta = list( dataImp[:,i] for i in [4, 26, 45, 55, 56, 46] )  #5m Features\n",
    "# dta = list( dataImp[:,i] for i in [26, 38, 42, 44, 47, 51, 57, 58, 62, 63, 64, 55, 46] )  #1m Features\n",
    "dta = list( dataImp[:,i] for i in cols )\n",
    "\n",
    "dta = np.transpose(dta)\n",
    "data1 = dta\n",
    "print (len(data1[0]))"
   ]
  },
  {
   "cell_type": "code",
   "execution_count": 33,
   "metadata": {},
   "outputs": [
    {
     "name": "stdout",
     "output_type": "stream",
     "text": [
      "41\n"
     ]
    }
   ],
   "source": [
    "dataImp1 = testData\n",
    "\n",
    "# Creating dataset with only selected ELEVEN features in main model. Features - 1, 7, 23, 25, 29, 32, 38, 40, 41, 42, 48.\n",
    "# dta1 = list( dataImp1[:,i] for i in [26, 45, 46, 48, 50, 55, 56] )  #2m Features\n",
    "# dta1 = list( dataImp1[:,i] for i in [4, 26, 45, 55, 56, 46] )  #5m Features\n",
    "# dta1 = list( dataImp1[:,i] for i in [26, 38, 42, 44, 47, 51, 57, 58, 62, 63, 64, 55, 46] )  #1m Features\n",
    "dta1 = list( dataImp1[:,i] for i in cols )\n",
    "\n",
    "dta1 = np.transpose(dta1)\n",
    "testData = dta1\n",
    "print (len(testData[0]))"
   ]
  },
  {
   "cell_type": "code",
   "execution_count": 34,
   "metadata": {},
   "outputs": [],
   "source": [
    "##starting estimator for each classifier\n",
    "SVMEstimator = SVC(C = 100, kernel='rbf')\n",
    "svc = SVC(probability=True,class_weight='balanced')\n"
   ]
  },
  {
   "cell_type": "code",
   "execution_count": 35,
   "metadata": {},
   "outputs": [],
   "source": [
    "##parameters for grid search\n",
    "parameters = {'kernel':('linear', 'rbf'), 'C':[ 0.1, 1, 10, 100, 1000], 'gamma': [1, 0.1, 0.01, 0.001, 0.0001]}\n",
    "# parameters_ovo = {'estimator__C':[1,10,100],'estimator__kernel':['rbf']}\n",
    "clf_cv  =  GridSearchCV(svc, parameters)"
   ]
  },
  {
   "cell_type": "code",
   "execution_count": 36,
   "metadata": {},
   "outputs": [],
   "source": [
    "##classifiers for binary classification\n",
    "clf12  =  GridSearchCV(svc, parameters)\n",
    "clf23  =  GridSearchCV(svc, parameters)\n",
    "clf34  =  GridSearchCV(svc, parameters)\n",
    "clf45  =  GridSearchCV(svc, parameters)\n"
   ]
  },
  {
   "cell_type": "code",
   "execution_count": 37,
   "metadata": {},
   "outputs": [],
   "source": [
    "# from sklearn.neighbors import KernelDensity\n",
    "# kde12 = KernelDensity(kernel='gaussian', bandwidth=0.5).fit(Data12)\n",
    "# Data12 = kde12.score_samples(Data12)\n",
    "# kde23 = KernelDensity(kernel='gaussian', bandwidth=0.5).fit(Data23)\n",
    "# Data23 = kde23.score_samples(Data23)\n",
    "# kde34 = KernelDensity(kernel='gaussian', bandwidth=0.5).fit(Data34)\n",
    "# Data34 = kde34.score_samples(Data34)\n",
    "# kde45 = KernelDensity(kernel='gaussian', bandwidth=0.5).fit(Data45)\n",
    "# Data45 = kde45.score_samples(Data45)\n"
   ]
  },
  {
   "cell_type": "code",
   "execution_count": 38,
   "metadata": {},
   "outputs": [],
   "source": [
    "# Data12 = Data12.reshape(-1,1)\n",
    "# Data23 = Data23.reshape(-1,1)\n",
    "# Data34 = Data34.reshape(-1,1)\n",
    "# Data45 = Data45.reshape(-1,1)"
   ]
  },
  {
   "cell_type": "code",
   "execution_count": 39,
   "metadata": {},
   "outputs": [
    {
     "data": {
      "text/plain": [
       "(832, 41)"
      ]
     },
     "execution_count": 39,
     "metadata": {},
     "output_type": "execute_result"
    }
   ],
   "source": [
    "Data34.shape"
   ]
  },
  {
   "cell_type": "code",
   "execution_count": 40,
   "metadata": {},
   "outputs": [],
   "source": [
    "# from sklearn.neighbors import KernelDensity\n",
    "\n",
    "# def kde2D(x, y, bandwidth, xbins=100j, ybins=100j, **kwargs): \n",
    "#     \"\"\"Build 2D kernel density estimate (KDE).\"\"\"\n",
    "\n",
    "#     # create grid of sample locations (default: 100x100)\n",
    "#     xx, yy = np.mgrid[x.min():x.max():xbins, \n",
    "#                       y.min():y.max():ybins]\n",
    "\n",
    "#     xy_sample = np.vstack([yy.ravel(), xx.ravel()]).T\n",
    "#     xy_train  = np.vstack([y, x]).T\n",
    "\n",
    "#     kde_skl = KernelDensity(bandwidth=bandwidth, **kwargs)\n",
    "#     kde_skl.fit(xy_train)\n",
    "\n",
    "#     # score_samples() returns the log-likelihood of the samples\n",
    "#     z = np.exp(kde_skl.score_samples(xy_sample))\n",
    "#     return xx, yy, np.reshape(z, xx.shape)"
   ]
  },
  {
   "cell_type": "code",
   "execution_count": 41,
   "metadata": {},
   "outputs": [],
   "source": [
    "# import scipy.stats as stats\n",
    "# from sklearn.neighbors import KernelDensity\n",
    "# kde34 = stats.gaussian_kde(Data34)\n",
    "# Data34 = kde34.evaluate(Data34)\n"
   ]
  },
  {
   "cell_type": "code",
   "execution_count": 42,
   "metadata": {},
   "outputs": [
    {
     "data": {
      "text/plain": [
       "(880, 41)"
      ]
     },
     "execution_count": 42,
     "metadata": {},
     "output_type": "execute_result"
    }
   ],
   "source": [
    "testData.shape"
   ]
  },
  {
   "cell_type": "code",
   "execution_count": 43,
   "metadata": {},
   "outputs": [
    {
     "name": "stdout",
     "output_type": "stream",
     "text": [
      "1\n",
      "2\n",
      "3\n"
     ]
    }
   ],
   "source": [
    "##classifiers for binary classification\n",
    "clf12  =  clf12.fit(Data12,Label12)\n",
    "print (1)\n",
    "clf23  =  clf23.fit(Data23,Label23)\n",
    "print (2)\n",
    "clf34  =  clf34.fit(Data34,Label34)\n",
    "print (3)\n",
    "clf45  =  clf45.fit(Data45,Label45)\n",
    "\n",
    "# Set the svc to the best combination of parameters\n",
    "svc12 = clf12.best_estimator_\n",
    "svc23 = clf23.best_estimator_\n",
    "svc34 = clf34.best_estimator_\n",
    "svc45 = clf45.best_estimator_"
   ]
  },
  {
   "cell_type": "code",
   "execution_count": 44,
   "metadata": {},
   "outputs": [
    {
     "name": "stdout",
     "output_type": "stream",
     "text": [
      "SVC(C=10, break_ties=False, cache_size=200, class_weight='balanced', coef0=0.0,\n",
      "    decision_function_shape='ovr', degree=3, gamma=1, kernel='rbf', max_iter=-1,\n",
      "    probability=True, random_state=None, shrinking=True, tol=0.001,\n",
      "    verbose=False)\n",
      "SVC(C=1000, break_ties=False, cache_size=200, class_weight='balanced',\n",
      "    coef0=0.0, decision_function_shape='ovr', degree=3, gamma=1,\n",
      "    kernel='linear', max_iter=-1, probability=True, random_state=None,\n",
      "    shrinking=True, tol=0.001, verbose=False)\n",
      "SVC(C=1000, break_ties=False, cache_size=200, class_weight='balanced',\n",
      "    coef0=0.0, decision_function_shape='ovr', degree=3, gamma=0.1, kernel='rbf',\n",
      "    max_iter=-1, probability=True, random_state=None, shrinking=True, tol=0.001,\n",
      "    verbose=False)\n",
      "SVC(C=10, break_ties=False, cache_size=200, class_weight='balanced', coef0=0.0,\n",
      "    decision_function_shape='ovr', degree=3, gamma=1, kernel='rbf', max_iter=-1,\n",
      "    probability=True, random_state=None, shrinking=True, tol=0.001,\n",
      "    verbose=False)\n"
     ]
    }
   ],
   "source": [
    "## best parameters\n",
    "print(svc12) \n",
    "print(svc23) \n",
    "print(svc34) \n",
    "print(svc45) "
   ]
  },
  {
   "cell_type": "code",
   "execution_count": null,
   "metadata": {},
   "outputs": [],
   "source": []
  },
  {
   "cell_type": "code",
   "execution_count": 45,
   "metadata": {},
   "outputs": [
    {
     "name": "stdout",
     "output_type": "stream",
     "text": [
      "Class12: 0.894731 (0.017933)\n",
      "Class23: 0.832848 (0.035625)\n",
      "Class34: 0.790835 (0.042265)\n",
      "Class45: 0.852170 (0.032274)\n",
      "AllClass: 0.800852 (0.018255)\n"
     ]
    }
   ],
   "source": [
    "scoring = \"accuracy\"\n",
    "model = SVMEstimator\n",
    "\n",
    "# For validation Score\n",
    "kfold = KFold(n_splits=10, random_state=None)\n",
    "\n",
    "cv_results12 = cross_val_score(svc12, Data12, Label12, cv=kfold, scoring=scoring)\n",
    "cv_results23 = cross_val_score(svc23, Data23, Label23, cv=kfold, scoring=scoring)\n",
    "cv_results34 = cross_val_score(svc34, Data34, Label34, cv=kfold, scoring=scoring)\n",
    "cv_results45 = cross_val_score(svc45, Data45, Label45, cv=kfold, scoring=scoring)\n",
    "\n",
    "cv_results = cross_val_score(model, data1, label1, cv=kfold, scoring=scoring)\n",
    "\n",
    "\n",
    "msg = \"%s: %f (%f)\" % (\"Class12\", cv_results12.mean(), cv_results12.std())\n",
    "print(msg)\n",
    "msg = \"%s: %f (%f)\" % (\"Class23\", cv_results23.mean(), cv_results23.std())\n",
    "print(msg)\n",
    "msg = \"%s: %f (%f)\" % (\"Class34\", cv_results34.mean(), cv_results34.std())\n",
    "print(msg)\n",
    "msg = \"%s: %f (%f)\" % (\"Class45\", cv_results45.mean(), cv_results45.std())\n",
    "print(msg)\n",
    "\n",
    "msg = \"%s: %f (%f)\" % (\"AllClass\", cv_results.mean(), cv_results.std())\n",
    "print(msg)"
   ]
  },
  {
   "cell_type": "code",
   "execution_count": null,
   "metadata": {},
   "outputs": [],
   "source": []
  },
  {
   "cell_type": "code",
   "execution_count": 46,
   "metadata": {},
   "outputs": [
    {
     "data": {
      "text/plain": [
       "SVC(C=10, break_ties=False, cache_size=200, class_weight='balanced', coef0=0.0,\n",
       "    decision_function_shape='ovr', degree=3, gamma=1, kernel='rbf', max_iter=-1,\n",
       "    probability=True, random_state=None, shrinking=True, tol=0.001,\n",
       "    verbose=False)"
      ]
     },
     "execution_count": 46,
     "metadata": {},
     "output_type": "execute_result"
    }
   ],
   "source": [
    "# Fitting datasets\n",
    "\n",
    "svc12.fit(Data12,Label12)\n",
    "svc23.fit(Data23,Label23)\n",
    "svc34.fit(Data34,Label34)\n",
    "svc45.fit(Data45,Label45)"
   ]
  },
  {
   "cell_type": "code",
   "execution_count": 47,
   "metadata": {},
   "outputs": [],
   "source": [
    "total_data = len(data1)\n",
    "weightage_1 = total_data/(2*len(Data12))\n",
    "weightage_2 = total_data/(2*len(Data23))\n",
    "weightage_3 = total_data/(2*len(Data34))\n",
    "weightage_4 = total_data/(2*len(Data45))\n"
   ]
  },
  {
   "cell_type": "code",
   "execution_count": 48,
   "metadata": {},
   "outputs": [
    {
     "data": {
      "text/plain": [
       "1.6793893129770991"
      ]
     },
     "execution_count": 48,
     "metadata": {},
     "output_type": "execute_result"
    }
   ],
   "source": [
    "(weightage_4)"
   ]
  },
  {
   "cell_type": "code",
   "execution_count": null,
   "metadata": {},
   "outputs": [],
   "source": []
  },
  {
   "cell_type": "code",
   "execution_count": 57,
   "metadata": {},
   "outputs": [],
   "source": [
    "\n",
    "##get the probability of each class\n",
    "predict_proba_12 = svc12.predict_proba(data1)\n",
    "predict_proba_23 = svc23.predict_proba(data1)\n",
    "predict_proba_34 = svc34.predict_proba(data1)\n",
    "predict_proba_45 = svc45.predict_proba(data1)\n",
    "\n",
    "\n",
    "\n",
    "#y = np.vstack((proba_train_weight_1,proba_train_weight_2,proba_train_weight_3,proba_train_weight_4,proba_train_weight_5)).T\n"
   ]
  },
  {
   "cell_type": "code",
   "execution_count": 50,
   "metadata": {},
   "outputs": [],
   "source": [
    "# train_1 = predict_proba_12[:,0]\n",
    "# train_2 = predict_proba_12[:,1]\n",
    "# train_3 = predict_proba_23[:,0]\n",
    "# train_4 = predict_proba_23[:,1]\n",
    "# train_5 = predict_proba_34[:,0]\n",
    "# train_6 = predict_proba_34[:,1]\n",
    "# train_7 = predict_proba_45[:,0]\n",
    "# train_8 = predict_proba_45[:,1]\n",
    "\n",
    "\n",
    "\n"
   ]
  },
  {
   "cell_type": "code",
   "execution_count": 56,
   "metadata": {},
   "outputs": [
    {
     "data": {
      "text/plain": [
       "array([[2.91424661e-11, 1.00000000e+00],\n",
       "       [1.50666148e-02, 9.84933385e-01],\n",
       "       [9.82817450e-01, 1.71825501e-02],\n",
       "       ...,\n",
       "       [9.38943107e-01, 6.10568928e-02],\n",
       "       [1.10683240e-10, 1.00000000e+00],\n",
       "       [1.28490871e-07, 9.99999872e-01]])"
      ]
     },
     "execution_count": 56,
     "metadata": {},
     "output_type": "execute_result"
    }
   ],
   "source": [
    "predict_proba_12"
   ]
  },
  {
   "cell_type": "code",
   "execution_count": 58,
   "metadata": {},
   "outputs": [],
   "source": [
    "##calculating new features based on predict proba method\n",
    "\n",
    "proba_train_weight_1 =predict_proba_12[:,0]\n",
    "proba_train_weight_2 = (predict_proba_23[:,0])\n",
    "proba_train_weight_3 = (predict_proba_34[:,0])\n",
    "proba_train_weight_4 =(predict_proba_45[:,0])\n",
    "# proba_train_weight_5 =weightage_4* predict_proba_45[:,1]"
   ]
  },
  {
   "cell_type": "code",
   "execution_count": 50,
   "metadata": {},
   "outputs": [],
   "source": [
    "# #sorted in descending order\n",
    "# sorted_a = np.sort(proba_train_weight_1)[::-1]\n",
    "# sorted_b = np.sort(proba_train_weight_2)[::-1]\n",
    "# sorted_c = np.sort(proba_train_weight_3)[::-1]\n",
    "# sorted_d = np.sort(proba_train_weight_4)[::-1]\n",
    "# sorted_e = np.sort(proba_train_weight_5)[::-1]\n"
   ]
  },
  {
   "cell_type": "code",
   "execution_count": 51,
   "metadata": {},
   "outputs": [],
   "source": [
    "# s_1 = (sorted_a - sorted_b)*(1/1)\n",
    "# s_2 = (sorted_b - sorted_c)*(1/2)\n",
    "# s_3 = (sorted_c - sorted_d)*(1/3)\n",
    "# s_4 = (sorted_d - sorted_e)*(1/4)"
   ]
  },
  {
   "cell_type": "code",
   "execution_count": 52,
   "metadata": {},
   "outputs": [],
   "source": [
    "# ## normalising data\n",
    "# norm_1 = np.linalg.norm(proba_train_weight_1)\n",
    "# proba_train_weight_1 = proba_train_weight_1/norm_1\n",
    "# norm_2 = np.linalg.norm(proba_train_weight_2)\n",
    "# proba_train_weight_2 = proba_train_weight_2/norm_2\n",
    "# norm_3 = np.linalg.norm(proba_train_weight_3)\n",
    "# proba_train_weight_3 = proba_train_weight_3/norm_3\n",
    "# norm_4 = np.linalg.norm(proba_train_weight_4)\n",
    "# proba_train_weight_4 = proba_train_weight_4/norm_4\n",
    "# norm_5 = np.linalg.norm(proba_train_weight_5)\n",
    "# proba_train_weight_5 = proba_train_weight_5/norm_5"
   ]
  },
  {
   "cell_type": "code",
   "execution_count": 59,
   "metadata": {},
   "outputs": [],
   "source": [
    "##standardizing te data\n",
    "proba_train_weight_1 = (proba_train_weight_1 - proba_train_weight_1.mean())/(proba_train_weight_1.std())\n",
    "proba_train_weight_2 = (proba_train_weight_2 - proba_train_weight_2.mean())/(proba_train_weight_2.std())\n",
    "proba_train_weight_3 = (proba_train_weight_3 - proba_train_weight_3.mean())/(proba_train_weight_3.std())\n",
    "proba_train_weight_4 = (proba_train_weight_4 - proba_train_weight_4.mean())/(proba_train_weight_4.std())\n",
    "# proba_train_weight_5 = (proba_train_weight_5 - proba_train_weight_5.mean())/(proba_train_weight_5.std())\n",
    "#y = np.vstack((proba_train_weight_1,proba_train_weight_2,proba_train_weight_3,proba_train_weight_4,proba_train_weight_5)).T"
   ]
  },
  {
   "cell_type": "code",
   "execution_count": 54,
   "metadata": {},
   "outputs": [],
   "source": [
    "# y = np.vstack((s_1,s_2,s_3,s_4,proba_train_weight_1,proba_train_weight_2,proba_train_weight_3,proba_train_weight_4,proba_train_weight_5)).T\n"
   ]
  },
  {
   "cell_type": "code",
   "execution_count": 60,
   "metadata": {},
   "outputs": [],
   "source": [
    "y = np.vstack((proba_train_weight_1,proba_train_weight_2,proba_train_weight_3,proba_train_weight_4)).T\n"
   ]
  },
  {
   "cell_type": "code",
   "execution_count": 61,
   "metadata": {},
   "outputs": [],
   "source": [
    "# y = np.vstack((train_1,train_2,train_3,train_4,train_5,train_6,train_7,train_8)).T"
   ]
  },
  {
   "cell_type": "code",
   "execution_count": 62,
   "metadata": {},
   "outputs": [
    {
     "name": "stdout",
     "output_type": "stream",
     "text": [
      "[-0.92687452 -1.32149189 -1.69629144 -2.14661022]\n",
      "[-0.89274443  0.63280006  0.70509115  0.69032642]\n",
      "[-0.89370361 -1.32150188 -1.7113861  -2.13104002]\n"
     ]
    }
   ],
   "source": [
    "print(y[0])\n",
    "print(y[1])\n",
    "print(y[10])"
   ]
  },
  {
   "cell_type": "code",
   "execution_count": 63,
   "metadata": {},
   "outputs": [],
   "source": [
    "data_all_method3 = np.append(data1,y,axis=1)"
   ]
  },
  {
   "cell_type": "code",
   "execution_count": 64,
   "metadata": {},
   "outputs": [
    {
     "name": "stdout",
     "output_type": "stream",
     "text": [
      "(3520, 45)\n"
     ]
    }
   ],
   "source": [
    "print(data_all_method3.shape)"
   ]
  },
  {
   "cell_type": "code",
   "execution_count": null,
   "metadata": {},
   "outputs": [],
   "source": [
    "# Full training Data(which has all classes)\n",
    "clf_cv  =  GridSearchCV(svc, parameters)\n",
    "clf_cv  =  clf_cv.fit(data1,label1)\n",
    "svcFinal = clf_cv.best_estimator_\n",
    "\n",
    "clf_clf  = svcFinal\n",
    "# fit the training data to the model\n",
    "clf_clf.fit(data1,label1)\n",
    "#print(clf_clf.best_params_)"
   ]
  },
  {
   "cell_type": "code",
   "execution_count": null,
   "metadata": {},
   "outputs": [],
   "source": [
    "cv_results1 = cross_val_score(svcFinal, data1, label1, cv=10, scoring=\"accuracy\")\n",
    "\n",
    "msg = \"%s: %f (%f)\" % (\"AllClass\", cv_results1.mean(), cv_results1.std())\n",
    "print(msg)"
   ]
  },
  {
   "cell_type": "code",
   "execution_count": null,
   "metadata": {},
   "outputs": [],
   "source": []
  },
  {
   "cell_type": "code",
   "execution_count": null,
   "metadata": {},
   "outputs": [],
   "source": [
    "from sklearn.model_selection import cross_val_predict\n",
    "from sklearn.metrics import confusion_matrix"
   ]
  },
  {
   "cell_type": "code",
   "execution_count": null,
   "metadata": {},
   "outputs": [],
   "source": [
    "y_pred = cross_val_predict(svcFinal, data1, label1, cv=kfold)\n",
    "conf_mat = confusion_matrix(label1, y_pred)\n",
    "from sklearn.metrics import classification_report, accuracy_score, confusion_matrix\n",
    "\n",
    "print(confusion_matrix(label1, y_pred))\n",
    "print(classification_report(label1, y_pred))"
   ]
  },
  {
   "cell_type": "code",
   "execution_count": null,
   "metadata": {},
   "outputs": [],
   "source": [
    "from sklearn.metrics import f1_score,recall_score,accuracy_score,plot_roc_curve\n",
    "from sklearn.metrics import precision_score\n",
    "print(\"accuracy:\", accuracy_score(label1, y_pred))\n",
    "print(\"precision:\", precision_score(label1, y_pred, average='weighted'))\n",
    "print(\"recall:\", recall_score(label1, y_pred, average='weighted'))\n",
    "print(\"f1_score:\", f1_score(label1, y_pred, average='weighted'))"
   ]
  },
  {
   "cell_type": "code",
   "execution_count": null,
   "metadata": {},
   "outputs": [],
   "source": [
    "# Full training Data(which has all classes)\n",
    "clf_cv2  =  GridSearchCV(svc, parameters)\n",
    "clf_cv2  =  clf_cv2.fit(data_all_method3,label1)\n",
    "svcFinal2 = clf_cv2.best_estimator_\n",
    "\n",
    "clf_method2  = svcFinal2\n",
    "# fit the training data to the model\n",
    "clf_method2.fit(data_all_method3,label1)\n",
    "#print(clf_clf.best_params_)\n"
   ]
  },
  {
   "cell_type": "code",
   "execution_count": null,
   "metadata": {},
   "outputs": [],
   "source": [
    "cv_results2 = cross_val_score(svcFinal2, data_all_method3, label1, cv=kfold, scoring=scoring)\n",
    "\n",
    "msg = \"%s: %f (%f)\" % (\"AllClass\", cv_results2.mean(), cv_results2.std())\n",
    "print(msg)"
   ]
  },
  {
   "cell_type": "code",
   "execution_count": null,
   "metadata": {},
   "outputs": [],
   "source": [
    "\n",
    "y_pred = cross_val_predict(svcFinal2, data_all_method3, label1, cv=kfold)\n",
    "conf_mat = confusion_matrix(label1, y_pred)"
   ]
  },
  {
   "cell_type": "code",
   "execution_count": null,
   "metadata": {},
   "outputs": [],
   "source": [
    "from sklearn.metrics import classification_report, accuracy_score, confusion_matrix\n",
    "\n",
    "print(confusion_matrix(label1, y_pred))\n",
    "print(classification_report(label1, y_pred))"
   ]
  },
  {
   "cell_type": "code",
   "execution_count": null,
   "metadata": {},
   "outputs": [],
   "source": [
    "from sklearn.metrics import f1_score,recall_score,accuracy_score,plot_roc_curve\n",
    "from sklearn.metrics import precision_score\n",
    "print(\"accuracy:\", accuracy_score(label1, y_pred))\n",
    "print(\"precision:\", precision_score(label1, y_pred, average='weighted'))\n",
    "print(\"recall:\", recall_score(label1, y_pred, average='weighted'))\n",
    "print(\"f1_score:\", f1_score(label1, y_pred, average='weighted'))"
   ]
  },
  {
   "cell_type": "code",
   "execution_count": null,
   "metadata": {},
   "outputs": [],
   "source": [
    "## for whole data svm\n",
    "parameters_ovo = {'estimator__C':[1,10,100,1000],'estimator__kernel':['rbf','linear'],'estimator__gamma': [1, 0.1, 0.01, 0.001, 0.0001]}\n",
    "##OneVsOne Classifier for all training set\n",
    "ovo = OneVsOneClassifier(svc)\n",
    "# Training data after extracting probabilities\n",
    "clf_method3  = GridSearchCV(ovo, parameters_ovo)\n",
    "# fit the training data to the model\n",
    "clf_method3.fit(data_all_method3,label1)\n",
    "print(clf_method3.best_params_)"
   ]
  },
  {
   "cell_type": "code",
   "execution_count": null,
   "metadata": {},
   "outputs": [],
   "source": [
    "# cv_results3 = cross_val_score(clf_method3, data_all_method3, label1, cv=kfold, scoring=scoring)\n",
    "\n",
    "# msg = \"%s: %f (%f)\" % (\"AllClass\", cv_results3.mean(), cv_results3.std())\n",
    "# print(msg)\n"
   ]
  },
  {
   "cell_type": "code",
   "execution_count": null,
   "metadata": {},
   "outputs": [],
   "source": [
    "# For 5 separate models\n",
    "# Test model on Trainig Data\n",
    "trainScore12 = svc12.score(Data12,Label12)\n",
    "trainScore23 = svc23.score(Data23,Label23)\n",
    "trainScore34 = svc34.score(Data34,Label34)\n",
    "trainScore45 = svc45.score(Data45,Label45)\n",
    "trainScore = clf_clf.score(data1,label1)\n",
    "\n",
    "trainScore_method2 = clf_method2.score(data_all_method3,label1)\n",
    "trainScore_method3 = clf_method3.score(data_all_method3,label1)\n",
    "\n",
    "# Test models on Trainig Data\n",
    "print (\"Training Score_12: \",trainScore12)\n",
    "print (\"Training Score_23: \",trainScore23)\n",
    "print (\"Training Score_34: \",trainScore34)\n",
    "print (\"Training Score_45: \",trainScore45)\n",
    "print (\"Training Score_Train using Normal SVM: \",trainScore)\n",
    "print (\"Training Score_Train using ensembled SVM: \",trainScore_method2)\n",
    "print (\"Training Score_Train_method3 with onevsone classifier: \",trainScore_method3)"
   ]
  },
  {
   "cell_type": "code",
   "execution_count": 70,
   "metadata": {},
   "outputs": [],
   "source": [
    "# oversample = SMOTE()\n",
    "# testData,testLabel = oversample.fit_resample(testData, testLabel)"
   ]
  },
  {
   "cell_type": "code",
   "execution_count": 71,
   "metadata": {},
   "outputs": [
    {
     "data": {
      "text/plain": [
       "880"
      ]
     },
     "execution_count": 71,
     "metadata": {},
     "output_type": "execute_result"
    }
   ],
   "source": [
    "len(testData)"
   ]
  },
  {
   "cell_type": "code",
   "execution_count": null,
   "metadata": {},
   "outputs": [],
   "source": [
    "# ##calculating new features based on predict proba method\n",
    "\n",
    "predict_proba_test_12 = svc12.predict_proba(testData)\n",
    "predict_proba_test_23 = svc23.predict_proba(testData)\n",
    "predict_proba_test_34 = svc34.predict_proba(testData)\n",
    "predict_proba_test_45 = svc45.predict_proba(testData)\n",
    "\n"
   ]
  },
  {
   "cell_type": "code",
   "execution_count": null,
   "metadata": {},
   "outputs": [],
   "source": [
    "# test_1 = predict_proba_test_12[:,0]\n",
    "# test_2 = predict_proba_test_12[:,1]\n",
    "# test_3 = predict_proba_test_23[:,0]\n",
    "# test_4 = predict_proba_test_23[:,1]\n",
    "# test_5 = predict_proba_test_34[:,0]\n",
    "# test_6 = predict_proba_test_34[:,1]\n",
    "# test_7 = predict_proba_test_45[:,0]\n",
    "# test_8 = predict_proba_test_45[:,1]"
   ]
  },
  {
   "cell_type": "code",
   "execution_count": null,
   "metadata": {},
   "outputs": [],
   "source": [
    "proba_test_weight_1 =predict_proba_test_12[:,0]\n",
    "proba_test_weight_2 =predict_proba_test_23[:,0]\n",
    "proba_test_weight_3 = predict_proba_test_34[:,0]\n",
    "proba_test_weight_4 = (predict_proba_test_45[:,0])\n",
    "# proba_test_weight_5 = weightage_4*predict_proba_test_45[:,1]\n",
    "\n",
    "## method 3 appending 5 separate probabilities to all data\n",
    "#data_all_test_method3 = np.concatenate((Data12_test,Data23_test,Data34_test,Data45_test),axis=0)\n",
    "#y = np.vstack((proba_test_weight_1,proba_test_weight_2,proba_test_weight_3,proba_test_weight_4,proba_test_weight_5)).T\n"
   ]
  },
  {
   "cell_type": "code",
   "execution_count": 74,
   "metadata": {},
   "outputs": [],
   "source": [
    "# #sorted in descending order\n",
    "# sorted_at = np.sort(proba_test_weight_1)[::-1]\n",
    "# sorted_bt = np.sort(proba_test_weight_2)[::-1]\n",
    "# sorted_ct = np.sort(proba_test_weight_3)[::-1]\n",
    "# sorted_dt = np.sort(proba_test_weight_4)[::-1]\n",
    "# sorted_et = np.sort(proba_test_weight_5)[::-1]\n",
    "\n",
    "\n",
    "# s_1t = (sorted_at - sorted_bt)*(1/1)\n",
    "# s_2t = (sorted_bt - sorted_ct)*(1/2)\n",
    "# s_3t = (sorted_ct - sorted_dt)*(1/3)\n",
    "# s_4t = (sorted_dt - sorted_et)*(1/4)"
   ]
  },
  {
   "cell_type": "code",
   "execution_count": 75,
   "metadata": {},
   "outputs": [],
   "source": [
    "# ## normalising data\n",
    "# norm_1 = np.linalg.norm(proba_test_weight_1)\n",
    "# proba_test_weight_1 = proba_test_weight_1/norm_1\n",
    "# norm_2 = np.linalg.norm(proba_test_weight_2)\n",
    "# proba_test_weight_2 = proba_test_weight_2/norm_2\n",
    "# norm_3 = np.linalg.norm(proba_test_weight_3)\n",
    "# proba_test_weight_3 = proba_test_weight_3/norm_3\n",
    "# norm_4 = np.linalg.norm(proba_test_weight_4)\n",
    "# proba_test_weight_4 = proba_test_weight_4/norm_4\n",
    "# norm_5 = np.linalg.norm(proba_test_weight_5)\n",
    "# proba_test_weight_5 = proba_test_weight_5/norm_5"
   ]
  },
  {
   "cell_type": "code",
   "execution_count": null,
   "metadata": {},
   "outputs": [],
   "source": [
    "##standardizing data\n",
    "proba_test_weight_1 = (proba_test_weight_1 - proba_test_weight_1.mean())/(proba_test_weight_1.std())\n",
    "proba_test_weight_2 = (proba_test_weight_2 - proba_test_weight_2.mean())/(proba_test_weight_2.std())\n",
    "proba_test_weight_3 = (proba_test_weight_3 - proba_test_weight_3.mean())/(proba_test_weight_3.std())\n",
    "proba_test_weight_4 = (proba_test_weight_4 - proba_test_weight_4.mean())/(proba_test_weight_4.std())\n",
    "# proba_test_weight_5 = (proba_test_weight_5 - proba_test_weight_5.mean())/(proba_test_weight_5.std())\n",
    "# y = np.vstack((proba_train_weight_1,proba_train_weight_2,proba_train_weight_3,proba_train_weight_4,proba_train_weight_5)).T\n",
    "#y = np.vstack((proba_test_weight_1,proba_test_weight_2,proba_test_weight_3,proba_test_weight_4,proba_test_weight_5)).T"
   ]
  },
  {
   "cell_type": "code",
   "execution_count": 77,
   "metadata": {},
   "outputs": [],
   "source": [
    "# y = np.sum((proba_test_weight_1,proba_test_weight_2,proba_test_weight_3,proba_test_weight_4,proba_test_weight_5),axis=0)\n",
    "# y = y.reshape(880,1)"
   ]
  },
  {
   "cell_type": "code",
   "execution_count": null,
   "metadata": {},
   "outputs": [],
   "source": [
    "y = np.vstack((proba_test_weight_1,proba_test_weight_2,proba_test_weight_3,proba_test_weight_4)).T"
   ]
  },
  {
   "cell_type": "code",
   "execution_count": null,
   "metadata": {},
   "outputs": [],
   "source": [
    "# y = np.vstack((test_1,test_2,test_3,test_4,test_5,test_6,test_7,test_8)).T"
   ]
  },
  {
   "cell_type": "code",
   "execution_count": null,
   "metadata": {},
   "outputs": [],
   "source": [
    "\n",
    "data_all_test_method3 = np.append(testData,y,axis=1)\n",
    "data_all_test_method3.shape"
   ]
  },
  {
   "cell_type": "code",
   "execution_count": null,
   "metadata": {},
   "outputs": [],
   "source": [
    "# For 5 separate models\n",
    "# # Test model on testing Data\n",
    "# testScore12 = svc12.score(testData,testLabel)\n",
    "# testScore23 = svc23.score(testData,testLabel)\n",
    "# testScore34 = svc34.score(testData,testLabel)\n",
    "# testScore45 = svc45.score(testData,testLabel)\n",
    "\n",
    "testScore_clf = clf_clf.score(testData,testLabel)\n",
    "\n",
    "testScore_method2 = clf_method2.score(data_all_test_method3,testLabel)\n",
    "\n",
    "testScore_method3 = clf_method3.score(data_all_test_method3,testLabel)\n",
    "\n",
    "# # # Test models on Trainig Data\n",
    "# print (\"Testing Score_12: \",testScore12)\n",
    "# print (\"Testing Score_23: \",testScore23)\n",
    "# print (\"Testing Score_34: \",testScore34)\n",
    "# print (\"Testing Score_45: \",testScore45)\n",
    "\n",
    "print (\"full test data on single model Testing Score_Test_clf using Normal SVM: \",testScore_clf)\n",
    "\n",
    "print (\"full test data on single model Testing Score_Test method with ensembled SVM: \",testScore_method2)\n",
    "\n",
    "print (\"full test data on single model Testing Score_Test method 3: \",testScore_method3)"
   ]
  },
  {
   "cell_type": "code",
   "execution_count": null,
   "metadata": {},
   "outputs": [],
   "source": [
    "predictedLabel = clf_method2.predict(data_all_test_method3)\n",
    "\n",
    "c = confusion_matrix(testLabel,predictedLabel)\n",
    "\n",
    "print(\"confusion matrix for SVM: \\n \",c)\n",
    "\n",
    "testScore = clf_method2.score(data_all_test_method3,testLabel)\n",
    "print(testScore)\n",
    "y_pred = cross_val_predict(clf_method2, data_all_test_method3, testLabel, cv=kfold)\n",
    "from sklearn.metrics import f1_score,recall_score,accuracy_score,plot_roc_curve\n",
    "from sklearn.metrics import precision_score\n",
    "print(\"accuracy:\", accuracy_score(testLabel, predictedLabel))\n",
    "print(\"precision:\", precision_score(testLabel, predictedLabel, average='weighted'))\n",
    "print(\"recall:\", recall_score(testLabel, predictedLabel, average='weighted'))\n",
    "print(\"f1_score:\", f1_score(testLabel, predictedLabel, average='weighted'))\n",
    "print(classification_report(testLabel, y_pred))"
   ]
  },
  {
   "cell_type": "code",
   "execution_count": null,
   "metadata": {},
   "outputs": [],
   "source": [
    "predictedLabel = clf_clf.predict(testData)\n",
    "\n",
    "c = confusion_matrix(testLabel,predictedLabel)\n",
    "\n",
    "print(\"confusion matrix for SVM: \\n \",c)\n",
    "\n",
    "testScore = clf_clf.score(testData,testLabel)\n",
    "print(testScore)\n",
    "from sklearn.metrics import f1_score,recall_score,accuracy_score,plot_roc_curve\n",
    "from sklearn.metrics import precision_score\n",
    "print(\"accuracy:\", accuracy_score(testLabel, predictedLabel))\n",
    "print(\"precision:\", precision_score(testLabel, predictedLabel, average='weighted'))\n",
    "print(\"recall:\", recall_score(testLabel, predictedLabel, average='weighted'))\n",
    "print(\"f1_score:\", f1_score(testLabel, predictedLabel, average='weighted'))"
   ]
  },
  {
   "cell_type": "code",
   "execution_count": null,
   "metadata": {},
   "outputs": [],
   "source": [
    "y_pred = cross_val_predict(clf_method3, data_all_test_method3, testLabel, cv=kfold)\n",
    "conf_mat = confusion_matrix(testLabel, y_pred)\n",
    "from sklearn.metrics import classification_report, accuracy_score, confusion_matrix\n",
    "\n",
    "print(confusion_matrix(testLabel, y_pred))\n",
    "print(classification_report(testLabel, y_pred))"
   ]
  },
  {
   "cell_type": "code",
   "execution_count": null,
   "metadata": {},
   "outputs": [],
   "source": [
    "## Not needed"
   ]
  },
  {
   "cell_type": "markdown",
   "metadata": {},
   "source": [
    "# \"Not Needed from below\""
   ]
  },
  {
   "cell_type": "code",
   "execution_count": null,
   "metadata": {},
   "outputs": [],
   "source": [
    "from sklearn.neighbors import KernelDensity\n",
    "kde = KernelDensity(kernel='gaussian', bandwidth=0.5).fit(Data12)\n",
    "log_density = kde.score_samples(Data12)\n",
    "log_density"
   ]
  },
  {
   "cell_type": "code",
   "execution_count": null,
   "metadata": {},
   "outputs": [],
   "source": [
    "def kde_sklearn(x, x_grid, bandwidth=0.2, **kwargs):\n",
    "    \"\"\"Kernel Density Estimation with Scikit-learn\"\"\"\n",
    "    kde_skl = KernelDensity(bandwidth=bandwidth, **kwargs)\n",
    "    kde_skl.fit(x[:, np.newaxis])\n",
    "    # score_samples() returns the log-likelihood of the samples\n",
    "    log_pdf = kde_skl.score_samples(x_grid[:, np.newaxis])\n",
    "    return np.exp(log_pdf)"
   ]
  },
  {
   "cell_type": "code",
   "execution_count": null,
   "metadata": {},
   "outputs": [],
   "source": []
  },
  {
   "cell_type": "code",
   "execution_count": null,
   "metadata": {},
   "outputs": [],
   "source": []
  },
  {
   "cell_type": "code",
   "execution_count": null,
   "metadata": {},
   "outputs": [],
   "source": [
    "data_all_test_method3[1]"
   ]
  },
  {
   "cell_type": "code",
   "execution_count": null,
   "metadata": {},
   "outputs": [],
   "source": []
  },
  {
   "cell_type": "code",
   "execution_count": 172,
   "metadata": {},
   "outputs": [
    {
     "data": {
      "text/plain": [
       "GradientBoostingClassifier(ccp_alpha=0.0, criterion='friedman_mse', init=None,\n",
       "                           learning_rate=0.05, loss='deviance', max_depth=5,\n",
       "                           max_features=None, max_leaf_nodes=None,\n",
       "                           min_impurity_decrease=0.0, min_impurity_split=None,\n",
       "                           min_samples_leaf=1, min_samples_split=2,\n",
       "                           min_weight_fraction_leaf=0.0, n_estimators=15,\n",
       "                           n_iter_no_change=None, presort='deprecated',\n",
       "                           random_state=0, subsample=1.0, tol=0.0001,\n",
       "                           validation_fraction=0.1, verbose=0,\n",
       "                           warm_start=False)"
      ]
     },
     "execution_count": 172,
     "metadata": {},
     "output_type": "execute_result"
    }
   ],
   "source": [
    "model = GradientBoostingClassifier(n_estimators=15,random_state=0,max_depth=5,learning_rate=0.05)\n",
    "model.fit(data_all_method3,label1)\n"
   ]
  },
  {
   "cell_type": "code",
   "execution_count": 173,
   "metadata": {},
   "outputs": [
    {
     "name": "stdout",
     "output_type": "stream",
     "text": [
      "confusion matrix for SVM: \n",
      "  [[339  14   0   0   0]\n",
      " [ 42  98  14   0   1]\n",
      " [  1  22  73  11   3]\n",
      " [  1   0  25  53  19]\n",
      " [  0   0   2  17 145]]\n",
      "0.8045454545454546\n",
      "accuracy: 0.8045454545454546\n",
      "precision: 0.7976299505454737\n",
      "recall: 0.8045454545454546\n",
      "f1_score: 0.7991887871096833\n"
     ]
    }
   ],
   "source": [
    "predictedLabel = model.predict(data_all_test_method3)\n",
    "\n",
    "c = confusion_matrix(testLabel,predictedLabel)\n",
    "\n",
    "print(\"confusion matrix for SVM: \\n \",c)\n",
    "\n",
    "testScore = model.score(data_all_test_method3,testLabel)\n",
    "print(testScore)\n",
    "from sklearn.metrics import f1_score,recall_score,accuracy_score,plot_roc_curve\n",
    "from sklearn.metrics import precision_score\n",
    "print(\"accuracy:\", accuracy_score(testLabel, predictedLabel))\n",
    "print(\"precision:\", precision_score(testLabel, predictedLabel, average='weighted'))\n",
    "print(\"recall:\", recall_score(testLabel, predictedLabel, average='weighted'))\n",
    "print(\"f1_score:\", f1_score(testLabel, predictedLabel, average='weighted'))"
   ]
  },
  {
   "cell_type": "markdown",
   "metadata": {},
   "source": [
    "# \"Not Needed from below\""
   ]
  },
  {
   "cell_type": "code",
   "execution_count": 129,
   "metadata": {},
   "outputs": [],
   "source": [
    "# Creating Different test Dataset for bi-class problem\n",
    "\n",
    "Data12_test = []\n",
    "Data23_test = []\n",
    "Data34_test = []\n",
    "Data45_test = []\n",
    "Data15_test = []\n",
    "\n",
    "\n",
    "Label12_test = []\n",
    "Label23_test = []\n",
    "Label34_test = []\n",
    "Label45_test = []\n",
    "Label15_test = []\n",
    "\n",
    "\n",
    "# Creating dataset for class1 and class2 only\n",
    "for i in range(len(testData)):\n",
    "    if (testLabel[i] == 1 or testLabel[i] == 2):\n",
    "        Data12_test.append(testData[i])\n",
    "        Label12_test.append(testLabel[i])\n",
    "\n",
    "# Creating dataset for class2 and class3 only\n",
    "for i in range(len(testData)):\n",
    "    if (testLabel[i] == 2 or testLabel[i] == 3):\n",
    "        Data23_test.append(testData[i])\n",
    "        Label23_test.append(testLabel[i])\n",
    "        \n",
    "# Creating dataset for class3 and class4 only\n",
    "for i in range(len(testData)):\n",
    "    if (testLabel[i] == 3 or testLabel[i] == 4):\n",
    "        Data34_test.append(testData[i])\n",
    "        Label34_test.append(testLabel[i])\n",
    "        \n",
    "# Creating dataset for class4 and class5 only\n",
    "for i in range(len(testData)):\n",
    "    if (testLabel[i] == 4 or testLabel[i] == 5):\n",
    "        Data45_test.append(testData[i])\n",
    "        Label45_test.append(testLabel[i])\n",
    "\n",
    "# Creating dataset for class4 and class5 only\n",
    "for i in range(len(testData)):\n",
    "    if (testLabel[i] == 1 or testLabel[i] == 5):\n",
    "        Data15_test.append(testData[i])\n",
    "        Label15_test.append(testLabel[i])\n",
    "\n"
   ]
  },
  {
   "cell_type": "code",
   "execution_count": 130,
   "metadata": {},
   "outputs": [],
   "source": [
    "testScore12 = svc12.score(Data12_test,Label12_test)\n",
    "testScore23 = svc23.score(Data23_test,Label23_test)\n",
    "testScore34 = svc34.score(Data34_test,Label34_test)\n",
    "testScore45 = svc45.score(Data45_test,Label45_test)"
   ]
  },
  {
   "cell_type": "code",
   "execution_count": 131,
   "metadata": {},
   "outputs": [
    {
     "name": "stdout",
     "output_type": "stream",
     "text": [
      "Testing Score_12:  0.90748031496063\n",
      "Testing Score_23:  0.8603773584905661\n",
      "Testing Score_34:  0.8365384615384616\n",
      "Testing Score_45:  0.8816793893129771\n"
     ]
    }
   ],
   "source": [
    "print (\"Testing Score_12: \",testScore12)\n",
    "print (\"Testing Score_23: \",testScore23)\n",
    "print (\"Testing Score_34: \",testScore34)\n",
    "print (\"Testing Score_45: \",testScore45)"
   ]
  },
  {
   "cell_type": "code",
   "execution_count": null,
   "metadata": {},
   "outputs": [],
   "source": [
    "#training 4 svms for fitting the data\n",
    "svc_12 = SVC(C=100,kernel='linear',probability=True)\n",
    "svc_23 = SVC(C=100,kernel='linear',probability=True)\n",
    "svc_34 = SVC(C=100,kernel='linear',probability=True)\n",
    "svc_45 = SVC(C=1,kernel='linear',probability=True)\n",
    "svc_12.fit(Data12,Label12)\n",
    "svc_23.fit(Data23,Label23)\n",
    "svc_34.fit(Data34,Label34)\n",
    "svc_45.fit(Data45,Label45)"
   ]
  },
  {
   "cell_type": "code",
   "execution_count": null,
   "metadata": {},
   "outputs": [],
   "source": [
    "#distances from hyperplanes\n",
    "y_12 = svc_12.decision_function(data1)\n",
    "w_norm_12 = np.linalg.norm(svc_12.coef_)\n",
    "dist_12 = y_12 / w_norm_12\n",
    "df_12 = pd.DataFrame(dist_12)\n",
    "\n",
    "## class 23\n",
    "y_23 = svc_23.decision_function(data1)\n",
    "w_norm_23 = np.linalg.norm(svc_23.coef_)\n",
    "dist_23 = y_23 / w_norm_23\n",
    "df_23 = pd.DataFrame(dist_23)\n",
    "\n",
    "##class 34\n",
    "y_34 = svc_34.decision_function(data1)\n",
    "w_norm_34 = np.linalg.norm(svc_34.coef_)\n",
    "dist_34 = y_34 / w_norm_34\n",
    "df_34 = pd.DataFrame(dist_34)\n",
    "\n",
    "## class 45\n",
    "y_45 = svc_45.decision_function(data1)\n",
    "w_norm_45 = np.linalg.norm(svc_45.coef_)\n",
    "dist_45 = y_45 / w_norm_45\n",
    "df_45 = pd.DataFrame(dist_45)\n"
   ]
  },
  {
   "cell_type": "code",
   "execution_count": null,
   "metadata": {},
   "outputs": [],
   "source": [
    "df_12"
   ]
  },
  {
   "cell_type": "code",
   "execution_count": null,
   "metadata": {},
   "outputs": [],
   "source": []
  },
  {
   "cell_type": "code",
   "execution_count": null,
   "metadata": {},
   "outputs": [],
   "source": []
  },
  {
   "cell_type": "code",
   "execution_count": null,
   "metadata": {},
   "outputs": [],
   "source": []
  },
  {
   "cell_type": "code",
   "execution_count": null,
   "metadata": {},
   "outputs": [],
   "source": []
  },
  {
   "cell_type": "code",
   "execution_count": null,
   "metadata": {},
   "outputs": [],
   "source": []
  },
  {
   "cell_type": "code",
   "execution_count": 83,
   "metadata": {},
   "outputs": [
    {
     "name": "stdout",
     "output_type": "stream",
     "text": [
      "0.8386363636363636\n",
      "confusion matrix for SVM: \n",
      "  [[336  17   0   0   0]\n",
      " [ 32 112  11   0   0]\n",
      " [  0  19  82   7   2]\n",
      " [  0   1  21  58  18]\n",
      " [  0   0   0  14 150]]\n"
     ]
    }
   ],
   "source": [
    "##Combined classifier\n",
    "combinedClassifier = EnsembleVoteClassifier(clfs=[svc12, svc23,\n",
    "                                    svc34,svc45],voting='soft')\n",
    "\n",
    "combinedClassifier.fit(data1,label1)\n",
    "\n",
    "score = combinedClassifier.score(testData,testLabel)\n",
    "\n",
    "print(score)\n",
    "\n",
    "predictedLabel = combinedClassifier.predict(testData)\n",
    "\n",
    "c = confusion_matrix(testLabel,predictedLabel)\n",
    "\n",
    "print(\"confusion matrix for SVM: \\n \",c)"
   ]
  },
  {
   "cell_type": "code",
   "execution_count": 179,
   "metadata": {},
   "outputs": [
    {
     "name": "stdout",
     "output_type": "stream",
     "text": [
      "confusion matrix for SVM: \n",
      "  [[336  17   0   0   0]\n",
      " [ 32 112  11   0   0]\n",
      " [  0  19  82   7   2]\n",
      " [  0   1  21  58  18]\n",
      " [  0   0   0  14 150]]\n",
      "0.8386363636363636\n",
      "accuracy: 0.8386363636363636\n",
      "precision: 0.834764172044629\n",
      "recall: 0.8386363636363636\n",
      "f1_score: 0.8355537809789656\n"
     ]
    }
   ],
   "source": [
    "predictedLabel = combinedClassifier.predict(testData)\n",
    "\n",
    "c = confusion_matrix(testLabel,predictedLabel)\n",
    "\n",
    "print(\"confusion matrix for SVM: \\n \",c)\n",
    "\n",
    "testScore = combinedClassifier.score(testData,testLabel)\n",
    "print(testScore)\n",
    "from sklearn.metrics import f1_score,recall_score,accuracy_score,plot_roc_curve\n",
    "from sklearn.metrics import precision_score\n",
    "print(\"accuracy:\", accuracy_score(testLabel, predictedLabel))\n",
    "print(\"precision:\", precision_score(testLabel, predictedLabel, average='weighted'))\n",
    "print(\"recall:\", recall_score(testLabel, predictedLabel, average='weighted'))\n",
    "print(\"f1_score:\", f1_score(testLabel, predictedLabel, average='weighted'))"
   ]
  },
  {
   "cell_type": "code",
   "execution_count": null,
   "metadata": {},
   "outputs": [],
   "source": [
    "from sklearn.ensemble import AdaBoostClassifier,VotingClassifier"
   ]
  },
  {
   "cell_type": "code",
   "execution_count": null,
   "metadata": {},
   "outputs": [],
   "source": [
    "adaBoostClassifier = AdaBoostClassifier(base_estimator = combinedClassifier)\n",
    "adaBoostClassifier.fit(data1,label1)\n",
    "score = adaBoostClassifier.score(testData,testLabel)\n",
    "\n",
    "print(score)\n",
    "\n",
    "predictedLabel = adaBoostClassifier.predict(testData)\n",
    "\n",
    "c = confusion_matrix(testLabel,predictedLabel)\n",
    "\n",
    "print(\"confusion matrix for SVM: \\n \",c)"
   ]
  },
  {
   "cell_type": "code",
   "execution_count": null,
   "metadata": {},
   "outputs": [],
   "source": []
  },
  {
   "cell_type": "code",
   "execution_count": null,
   "metadata": {},
   "outputs": [],
   "source": [
    "testData.shape"
   ]
  },
  {
   "cell_type": "code",
   "execution_count": null,
   "metadata": {},
   "outputs": [],
   "source": [
    "##weighted distance method\n",
    "weighted_distance_12 = pd.DataFrame([0] * 6215)\n",
    "weighted_distance_23 = pd.DataFrame([0] * 6215)\n",
    "weighted_distance_34 = pd.DataFrame([0] * 6215)\n",
    "weighted_distance_45 = pd.DataFrame([0] * 6215)\n"
   ]
  },
  {
   "cell_type": "code",
   "execution_count": null,
   "metadata": {},
   "outputs": [],
   "source": [
    "#distances from hyperplanes\n",
    "y_12 = svc_12.decision_function(Data12)\n",
    "w_norm_12 = np.linalg.norm(svc_12.coef_)\n",
    "dist_12 = y_12 / w_norm_12\n",
    "df_12 = pd.DataFrame(dist_12)\n",
    "\n",
    "## class 23\n",
    "y_23 = svc_23.decision_function(Data23)\n",
    "w_norm_23 = np.linalg.norm(svc_23.coef_)\n",
    "dist_23 = y_23 / w_norm_23\n",
    "df_23 = pd.DataFrame(dist_23)\n",
    "\n",
    "##class 34\n",
    "y_34 = svc_34.decision_function(Data34)\n",
    "w_norm_34 = np.linalg.norm(svc_34.coef_)\n",
    "dist_34 = y_34 / w_norm_34\n",
    "df_34 = pd.DataFrame(dist_34)\n",
    "\n",
    "## class 45\n",
    "y_45 = svc_45.decision_function(Data45)\n",
    "w_norm_45 = np.linalg.norm(svc_45.coef_)\n",
    "dist_45 = y_45 / w_norm_45\n",
    "df_45 = pd.DataFrame(dist_45)\n",
    "\n"
   ]
  },
  {
   "cell_type": "code",
   "execution_count": null,
   "metadata": {},
   "outputs": [],
   "source": [
    "param = svc_12.get_params()\n",
    "\n",
    "nv = svc_12.n_support_\n",
    "a  = svc_12.dual_coef_\n",
    "b  = svc_12._intercept_\n",
    "cs = svc_12.classes_\n",
    "print(nv,b,cs)"
   ]
  },
  {
   "cell_type": "code",
   "execution_count": null,
   "metadata": {},
   "outputs": [],
   "source": [
    "y_all = svc_15.decision_function(data1)\n",
    "w_norm_all = np.linalg.norm(svc_45.coef_)\n",
    "dist_all = y_all / w_norm_all\n",
    "df_all = pd.DataFrame(dist_all)\n",
    "df_all.describe()"
   ]
  },
  {
   "cell_type": "code",
   "execution_count": null,
   "metadata": {},
   "outputs": [],
   "source": []
  },
  {
   "cell_type": "code",
   "execution_count": null,
   "metadata": {},
   "outputs": [],
   "source": [
    "## for individual svms\n",
    "\n",
    "weighted_distance_12_1 = 1/(df_12)\n",
    "weighted_distance_23_2 = 1/(df_23)\n",
    "weighted_distance_34_3 = 1/(df_34)\n",
    "weighted_distance_45_4 = 1/(df_45)\n",
    "\n"
   ]
  },
  {
   "cell_type": "code",
   "execution_count": null,
   "metadata": {},
   "outputs": [],
   "source": [
    "## for all training data and for single svm\n",
    "j=0\n",
    "for i in range(0,2541):\n",
    "    weighted_distance_12[0][i] = weighted_distance_12_1[0][j]\n",
    "    j+=1\n",
    "    \n",
    "j=0\n",
    "for i in range(2541,3865):\n",
    "    weighted_distance_23[0][i] = weighted_distance_23_2[0][j]\n",
    "    j+=1\n",
    "    \n",
    "j=0\n",
    "for i in range(3865,4905):\n",
    "    weighted_distance_34[0][i] = weighted_distance_34_3[0][j]\n",
    "    j+=1\n",
    "    \n",
    "j=0\n",
    "for i in range(4905,6215):\n",
    "    weighted_distance_45[0][i] = weighted_distance_45_4[0][j]\n",
    "    j+=1\n",
    "    \n",
    "\n",
    "\n"
   ]
  },
  {
   "cell_type": "code",
   "execution_count": null,
   "metadata": {},
   "outputs": [],
   "source": []
  },
  {
   "cell_type": "code",
   "execution_count": null,
   "metadata": {},
   "outputs": [],
   "source": []
  },
  {
   "cell_type": "code",
   "execution_count": null,
   "metadata": {},
   "outputs": [],
   "source": []
  },
  {
   "cell_type": "code",
   "execution_count": null,
   "metadata": {},
   "outputs": [],
   "source": [
    "scaler = StandardScaler()\n",
    "weighted_distance_12 = scaler.fit_transform(weighted_distance_12)\n",
    "weighted_distance_23 = scaler.fit_transform(weighted_distance_23)\n",
    "weighted_distance_34 = scaler.fit_transform(weighted_distance_34)\n",
    "weighted_distance_45 = scaler.fit_transform(weighted_distance_45)\n",
    "\n",
    "## individual data should also be standardised\n",
    "weighted_distance_12_1 = scaler.fit_transform(weighted_distance_12_1)\n",
    "weighted_distance_23_2 = scaler.fit_transform(weighted_distance_23_2)\n",
    "weighted_distance_34_3 = scaler.fit_transform(weighted_distance_34_3)\n",
    "weighted_distance_45_4 = scaler.fit_transform(weighted_distance_45_4)\n"
   ]
  },
  {
   "cell_type": "code",
   "execution_count": null,
   "metadata": {},
   "outputs": [],
   "source": []
  },
  {
   "cell_type": "code",
   "execution_count": null,
   "metadata": {},
   "outputs": [],
   "source": [
    "## for individual model training\n",
    "\n",
    "Data12_1 = np.append(Data12,weighted_distance_12_1,axis=1)\n",
    "Data23_1 = np.append(Data23,weighted_distance_23_2,axis=1)\n",
    "Data34_1 = np.append(Data34,weighted_distance_34_3,axis=1)\n",
    "Data45_1 = np.append(Data45,weighted_distance_45_4,axis=1)\n"
   ]
  },
  {
   "cell_type": "code",
   "execution_count": null,
   "metadata": {},
   "outputs": [],
   "source": [
    "#all data used for training\n",
    "data_all = np.concatenate((Data12_1,Data23_1,Data34_1,Data45_1),axis=0)\n",
    "data_all_clf = np.concatenate((Data12,Data23,Data34,Data45),axis=0)\n",
    "#data_all = np.concatenate((data_all,weighted_distance_12,weighted_distance_23,weighted_distance_34,weighted_distance_45),axis=1)\n",
    "label_all = np.concatenate((Label12,Label23,Label34,Label45),axis=0)"
   ]
  },
  {
   "cell_type": "code",
   "execution_count": null,
   "metadata": {},
   "outputs": [],
   "source": [
    "data_all_clf.shape,label_all.shape"
   ]
  },
  {
   "cell_type": "code",
   "execution_count": null,
   "metadata": {},
   "outputs": [],
   "source": [
    "## method 2 appending 4 separate weights to all data\n",
    "data_all_method2 = np.concatenate((Data12,Data23,Data34,Data45),axis=0)\n",
    "y = np.concatenate((weighted_distance_12,weighted_distance_23,weighted_distance_34,weighted_distance_45),axis=1)\n",
    "data_all_method2 = np.append(data_all_method2,y,axis=1)\n",
    "data_all_method2.shape"
   ]
  },
  {
   "cell_type": "code",
   "execution_count": null,
   "metadata": {},
   "outputs": [],
   "source": [
    "## for whole data svm\n",
    "##OneVsOne Classifier for all training set\n",
    "ovo = OneVsOneClassifier(svc)\n",
    "# Full training Data(which has all classes)\n",
    "clf  = GridSearchCV(ovo, parameters_ovo)\n",
    "# fit the training data to the model\n",
    "clf.fit(data_all,label_all)\n",
    "print(clf.best_params_)\n"
   ]
  },
  {
   "cell_type": "code",
   "execution_count": null,
   "metadata": {},
   "outputs": [],
   "source": [
    "## for whole data svm\n",
    "##OneVsOne Classifier for all training set\n",
    "ovo = OneVsOneClassifier(svc)\n",
    "# Full training Data(which has all classes)\n",
    "clf_clf  = GridSearchCV(ovo, parameters_ovo)\n",
    "# fit the training data to the model\n",
    "clf_clf.fit(data_all_clf,label_all)\n",
    "print(clf.best_params_)\n"
   ]
  },
  {
   "cell_type": "code",
   "execution_count": null,
   "metadata": {},
   "outputs": [],
   "source": [
    "## for whole data svm method 2\n",
    "##OneVsOne Classifier for all training set\n",
    "ovo = OneVsOneClassifier(svc)\n",
    "# Full training Data(which has all classes)\n",
    "clf_method2  = GridSearchCV(ovo, parameters_ovo)\n",
    "# fit the training data to the model\n",
    "clf_method2.fit(data_all_method2,label_all)\n",
    "print(clf_method2.best_params_)"
   ]
  },
  {
   "cell_type": "code",
   "execution_count": null,
   "metadata": {},
   "outputs": [],
   "source": [
    "\n",
    "## for whole data svm\n",
    "##OneVsOne Classifier for all training set\n",
    "ovo = OneVsOneClassifier(svc)\n",
    "# Full training Data(which has all classes)\n",
    "clf_ovo  = GridSearchCV(ovo, parameters_ovo)\n",
    "# fit the training data to the model\n",
    "clf_ovo.fit(data1,label1)\n",
    "print(clf.best_params_)\n"
   ]
  },
  {
   "cell_type": "code",
   "execution_count": null,
   "metadata": {},
   "outputs": [],
   "source": []
  },
  {
   "cell_type": "code",
   "execution_count": null,
   "metadata": {},
   "outputs": [],
   "source": [
    "##calculating new features based on predict proba method\n",
    "proba_1 = pd.DataFrame([0] * 6215)\n",
    "proba_2 = pd.DataFrame([0] * 6215)\n",
    "proba_3 = pd.DataFrame([0] * 6215)\n",
    "proba_4 = pd.DataFrame([0] * 6215)\n",
    "proba_5 = pd.DataFrame([0] * 6215)"
   ]
  },
  {
   "cell_type": "code",
   "execution_count": null,
   "metadata": {},
   "outputs": [],
   "source": [
    "#training 4 svms for fitting the data\n",
    "svc_12 = SVC(C=100,kernel='linear',probability=True)\n",
    "svc_23 = SVC(C=100,kernel='linear',probability=True)\n",
    "svc_34 = SVC(C=100,kernel='linear',probability=True)\n",
    "svc_45 = SVC(C=1,kernel='linear',probability=True)\n",
    "svc_12.fit(Data12,Label12)\n",
    "svc_23.fit(Data23,Label23)\n",
    "svc_34.fit(Data34,Label34)\n",
    "svc_45.fit(Data45,Label45)"
   ]
  },
  {
   "cell_type": "code",
   "execution_count": null,
   "metadata": {},
   "outputs": [],
   "source": [
    "predict_proba_12 = svc_12.predict_proba(Data12)\n",
    "predict_proba_23 = svc_23.predict_proba(Data23)\n",
    "predict_proba_34 = svc_34.predict_proba(Data34)\n",
    "predict_proba_45 = svc_45.predict_proba(Data45)\n",
    "predict_proba_45.shape"
   ]
  },
  {
   "cell_type": "code",
   "execution_count": null,
   "metadata": {},
   "outputs": [],
   "source": [
    "proba_1[0:2541] = predict_proba_12[:,0]\n",
    "proba_2[0:2541] = predict_proba_12[:,1]\n",
    "proba_2[2541:3865] = predict_proba_23[:,0].reshape(1324,1)\n",
    "proba_3[2541:3865] = predict_proba_23[:,1].reshape(1324,1)\n",
    "proba_3[3865:4905] = predict_proba_34[:,0].reshape(1040,1)\n",
    "proba_4[3865:4905] = predict_proba_34[:,1].reshape(1040,1)\n",
    "proba_4[4905:6215] = predict_proba_45[:,0].reshape(1310,1)\n",
    "proba_5[4905:6215] = predict_proba_45[:,1].reshape(1310,1)"
   ]
  },
  {
   "cell_type": "code",
   "execution_count": null,
   "metadata": {},
   "outputs": [],
   "source": [
    "## method 3 appending 5 separate probabilities to all data\n",
    "data_all_method3 = np.concatenate((Data12,Data23,Data34,Data45),axis=0)\n",
    "y = np.concatenate((proba_1,proba_2,proba_3,proba_4,proba_5),axis=1)\n",
    "data_all_method3 = np.append(data_all_method3,y,axis=1)\n",
    "data_all_method3.shape"
   ]
  },
  {
   "cell_type": "code",
   "execution_count": null,
   "metadata": {},
   "outputs": [],
   "source": [
    "## for whole data svm\n",
    "##OneVsOne Classifier for all training set\n",
    "ovo = OneVsOneClassifier(svc)\n",
    "# Full training Data(which has all classes)\n",
    "clf_method3  = GridSearchCV(ovo, parameters_ovo)\n",
    "# fit the training data to the model\n",
    "clf_method3.fit(data_all_method3,label_all)\n",
    "print(clf_method3.best_params_)\n"
   ]
  },
  {
   "cell_type": "code",
   "execution_count": null,
   "metadata": {},
   "outputs": [],
   "source": []
  },
  {
   "cell_type": "code",
   "execution_count": null,
   "metadata": {},
   "outputs": [],
   "source": []
  },
  {
   "cell_type": "code",
   "execution_count": null,
   "metadata": {},
   "outputs": [],
   "source": []
  },
  {
   "cell_type": "code",
   "execution_count": null,
   "metadata": {},
   "outputs": [],
   "source": []
  },
  {
   "cell_type": "code",
   "execution_count": null,
   "metadata": {},
   "outputs": [],
   "source": []
  },
  {
   "cell_type": "code",
   "execution_count": null,
   "metadata": {},
   "outputs": [],
   "source": []
  },
  {
   "cell_type": "code",
   "execution_count": null,
   "metadata": {},
   "outputs": [],
   "source": []
  },
  {
   "cell_type": "code",
   "execution_count": null,
   "metadata": {},
   "outputs": [],
   "source": [
    "def plot_svc_decision_boundary(svm_clf, xmin, xmax):\n",
    "    w = svm_clf.coef_[0]\n",
    "    b = svm_clf.intercept_[0]\n",
    "\n",
    "    # At the decision boundary, w0*x0 + w1*x1 + b = 0\n",
    "    # => x1 = -w0/w1 * x0 - b/w1\n",
    "    x0 = np.linspace(xmin, xmax, 200)\n",
    "    decision_boundary = -w[0]/w[1] * x0 - b/w[1]\n",
    "\n",
    "    margin = 1/w[1]\n",
    "    gutter_up = decision_boundary + margin\n",
    "    gutter_down = decision_boundary - margin\n",
    "\n",
    "    svs = svm_clf.support_vectors_\n",
    "    plt.scatter(svs[:, 0], svs[:, 1], s=180, facecolors='#FFAAAA')\n",
    "    plt.plot(x0, decision_boundary, \"k-\", linewidth=2)\n",
    "    plt.plot(x0, gutter_up, \"k--\", linewidth=2)\n",
    "    plt.plot(x0, gutter_down, \"k--\", linewidth=2)\n",
    "\n",
    "plt.figure(figsize=(12,2.7))"
   ]
  },
  {
   "cell_type": "code",
   "execution_count": null,
   "metadata": {},
   "outputs": [],
   "source": [
    "svc_rand = SVC(C=1000,kernel='linear',probability=True)\n",
    "svc_rand.fit(Data12_1,Label12)"
   ]
  },
  {
   "cell_type": "code",
   "execution_count": null,
   "metadata": {},
   "outputs": [],
   "source": [
    "plot_svc_decision_boundary(svc_rand,-1,1)"
   ]
  },
  {
   "cell_type": "code",
   "execution_count": null,
   "metadata": {},
   "outputs": [],
   "source": [
    "#training 4 svms after appending the new feature to the data\n",
    "svc_12 = SVC(C=100,kernel='linear',probability=True)\n",
    "svc_23 = SVC(C=100,kernel='linear',probability=True)\n",
    "svc_34 = SVC(C=100,kernel='linear',probability=True)\n",
    "svc_45 = SVC(C=1,kernel='linear',probability=True)\n",
    "\n",
    "svc_12.fit(Data12_1,Label12)\n",
    "svc_23.fit(Data23_1,Label23)\n",
    "svc_34.fit(Data34_1,Label34)\n",
    "svc_45.fit(Data45_1,Label45)"
   ]
  },
  {
   "cell_type": "code",
   "execution_count": null,
   "metadata": {},
   "outputs": [],
   "source": [
    "# For 5 separate models\n",
    "# Test model on Trainig Data\n",
    "trainScore12 = svc_12.score(Data12_1,Label12)\n",
    "trainScore23 = svc_23.score(Data23_1,Label23)\n",
    "trainScore34 = svc_34.score(Data34_1,Label34)\n",
    "trainScore45 = svc_45.score(Data45_1,Label45)\n",
    "trainScore = clf.score(data_all,label_all)\n",
    "trainScore_ovo = clf_ovo.score(data1,label1)\n",
    "trainScore_clf = clf_clf.score(data_all_clf,label_all)\n",
    "trainScore_method2 = clf_method2.score(data_all_method2,label_all)\n",
    "trainScore_method3 = clf_method3.score(data_all_method3,label_all)\n",
    "\n",
    "# Test models on Trainig Data\n",
    "print (\"Training Score_12: \",trainScore12)\n",
    "print (\"Training Score_23: \",trainScore23)\n",
    "print (\"Training Score_34: \",trainScore34)\n",
    "print (\"Training Score_45: \",trainScore45)\n",
    "print (\"Training Score_Train: \",trainScore)\n",
    "print (\"Training Score_Train_ovo: \",trainScore_ovo)\n",
    "print (\"Training Score_Train_clf_32: \",trainScore_clf)\n",
    "print (\"Training Score_Train_method2: \",trainScore_method2)\n",
    "print (\"Training Score_Train_method3: \",trainScore_method3)"
   ]
  },
  {
   "cell_type": "code",
   "execution_count": null,
   "metadata": {},
   "outputs": [],
   "source": [
    "data_all_method2.shape"
   ]
  },
  {
   "cell_type": "code",
   "execution_count": null,
   "metadata": {},
   "outputs": [],
   "source": []
  },
  {
   "cell_type": "code",
   "execution_count": null,
   "metadata": {},
   "outputs": [],
   "source": [
    "# Creating Different test Dataset for bi-class problem\n",
    "\n",
    "Data12_test = []\n",
    "Data23_test = []\n",
    "Data34_test = []\n",
    "Data45_test = []\n",
    "Data15_test = []\n",
    "\n",
    "\n",
    "Label12_test = []\n",
    "Label23_test = []\n",
    "Label34_test = []\n",
    "Label45_test = []\n",
    "Label15_test = []\n",
    "\n",
    "\n",
    "# Creating dataset for class1 and class2 only\n",
    "for i in range(len(testData)):\n",
    "    if (testLabel[i] == 1 or testLabel[i] == 2):\n",
    "        Data12_test.append(testData[i])\n",
    "        Label12_test.append(testLabel[i])\n",
    "\n",
    "# Creating dataset for class2 and class3 only\n",
    "for i in range(len(testData)):\n",
    "    if (testLabel[i] == 2 or testLabel[i] == 3):\n",
    "        Data23_test.append(testData[i])\n",
    "        Label23_test.append(testLabel[i])\n",
    "        \n",
    "# Creating dataset for class3 and class4 only\n",
    "for i in range(len(testData)):\n",
    "    if (testLabel[i] == 3 or testLabel[i] == 4):\n",
    "        Data34_test.append(testData[i])\n",
    "        Label34_test.append(testLabel[i])\n",
    "        \n",
    "# Creating dataset for class4 and class5 only\n",
    "for i in range(len(testData)):\n",
    "    if (testLabel[i] == 4 or testLabel[i] == 5):\n",
    "        Data45_test.append(testData[i])\n",
    "        Label45_test.append(testLabel[i])\n",
    "\n",
    "# Creating dataset for class4 and class5 only\n",
    "for i in range(len(testData)):\n",
    "    if (testLabel[i] == 1 or testLabel[i] == 5):\n",
    "        Data15_test.append(testData[i])\n",
    "        Label15_test.append(testLabel[i])\n",
    "\n"
   ]
  },
  {
   "cell_type": "code",
   "execution_count": null,
   "metadata": {},
   "outputs": [],
   "source": [
    "#svms for testing data to fit and get weighted distances\n",
    "svc_12_test = SVC(C=100,kernel='linear',probability=True)\n",
    "svc_23_test = SVC(C=100,kernel='linear',probability=True)\n",
    "svc_34_test = SVC(C=100,kernel='linear',probability=True)\n",
    "svc_45_test = SVC(C=1,kernel='linear',probability=True)\n",
    "svc_15_test = SVC(C=10,kernel='linear',probability=True)\n",
    "svc_12_test.fit(Data12_test,Label12_test)\n",
    "svc_23_test.fit(Data23_test,Label23_test)\n",
    "svc_34_test.fit(Data34_test,Label34_test)\n",
    "svc_45_test.fit(Data45_test,Label45_test)\n",
    "svc_15_test.fit(Data15,Label15)"
   ]
  },
  {
   "cell_type": "code",
   "execution_count": null,
   "metadata": {},
   "outputs": [],
   "source": [
    "#distances from hyperplanes\n",
    "y_12_test = svc_12_test.decision_function(Data12_test)\n",
    "w_norm_12_test = np.linalg.norm(svc_12_test.coef_)\n",
    "dist_12_test = y_12_test / w_norm_12_test\n",
    "df_12_test = pd.DataFrame(dist_12_test)\n",
    "\n",
    "## class 23\n",
    "y_23_test = svc_23_test.decision_function(Data23_test)\n",
    "w_norm_23_test = np.linalg.norm(svc_23_test.coef_)\n",
    "dist_23_test = y_23_test / w_norm_23_test\n",
    "df_23_test = pd.DataFrame(dist_23_test)\n",
    "\n",
    "##class 34\n",
    "y_34_test = svc_34_test.decision_function(Data34_test)\n",
    "w_norm_34_test = np.linalg.norm(svc_34_test.coef_)\n",
    "dist_34_test = y_34_test / w_norm_34_test\n",
    "df_34_test = pd.DataFrame(dist_34_test)\n",
    "\n",
    "## class 45\n",
    "y_45_test = svc_45_test.decision_function(Data45_test)\n",
    "w_norm_45_test = np.linalg.norm(svc_45_test.coef_)\n",
    "dist_45_test = y_45_test / w_norm_45_test\n",
    "df_45_test = pd.DataFrame(dist_45_test)\n",
    "\n",
    "## class 15\n",
    "y_15_test = svc_15_test.decision_function(Data15_test)\n",
    "w_norm_15_test = np.linalg.norm(svc_15_test.coef_)\n",
    "dist_15_test = y_15_test / w_norm_15_test\n",
    "df_15_test = pd.DataFrame(dist_15_test)\n",
    "\n"
   ]
  },
  {
   "cell_type": "code",
   "execution_count": null,
   "metadata": {},
   "outputs": [],
   "source": []
  },
  {
   "cell_type": "code",
   "execution_count": null,
   "metadata": {},
   "outputs": [],
   "source": [
    "##calculating weighted distance of samples from the hyperplane\n",
    "weighted_distance_12_test = 1/(df_12_test)\n",
    "weighted_distance_23_test = 1/(df_23_test)\n",
    "weighted_distance_34_test = 1/(df_34_test)\n",
    "weighted_distance_45_test = 1/(df_45_test)\n",
    "weighted_distance_15_test = 1/(df_15_test)\n",
    "\n",
    "\n",
    "\n"
   ]
  },
  {
   "cell_type": "code",
   "execution_count": null,
   "metadata": {},
   "outputs": [],
   "source": [
    "weighted_distance_12_test_method2 = pd.DataFrame([0] * 1216)\n",
    "weighted_distance_23_test_method2 = pd.DataFrame([0] * 1216)\n",
    "weighted_distance_34_test_method2 = pd.DataFrame([0] * 1216)\n",
    "weighted_distance_45_test_method2 = pd.DataFrame([0] * 1216)\n",
    "weighted_distance_15_test_method2 = pd.DataFrame([0] * 1216)\n"
   ]
  },
  {
   "cell_type": "code",
   "execution_count": null,
   "metadata": {},
   "outputs": [],
   "source": [
    "##calculating weighted distance of samples from the hyperplane method2\n",
    "## for all testing data and for single svm\n",
    "j=0\n",
    "for i in range(0,501):\n",
    "    weighted_distance_12_test_method2[0][i] = weighted_distance_12_test[0][j]\n",
    "    j+=1\n",
    "    \n",
    "j=0\n",
    "for i in range(501,733):\n",
    "    weighted_distance_23_test_method2[0][i] = weighted_distance_23_test[0][j]\n",
    "    j+=1\n",
    "    \n",
    "j=0\n",
    "for i in range(733,937):\n",
    "    weighted_distance_34_test_method2[0][i] = weighted_distance_34_test[0][j]\n",
    "    j+=1\n",
    "    \n",
    "j=0\n",
    "for i in range(937,1216):\n",
    "    weighted_distance_45_test_method2[0][i] = weighted_distance_45_test[0][j]\n",
    "    j+=1\n",
    "    \n",
    "j=0\n",
    "for i in range(1216,1760):\n",
    "    weighted_distance_15_test_method2[0][i] = weighted_distance_15_test[0][j]\n",
    "    j+=1\n",
    "    \n",
    "\n",
    "\n"
   ]
  },
  {
   "cell_type": "code",
   "execution_count": null,
   "metadata": {},
   "outputs": [],
   "source": [
    "weighted_distance_12_test_method2 = scaler.fit_transform(weighted_distance_12_test_method2)\n",
    "weighted_distance_23_test_method2 = scaler.fit_transform(weighted_distance_23_test_method2 )\n",
    "weighted_distance_34_test_method2 = scaler.fit_transform(weighted_distance_34_test_method2)\n",
    "weighted_distance_45_test_method2 = scaler.fit_transform(weighted_distance_45_test_method2)\n",
    "weighted_distance_15_test_method2 = scaler.fit_transform(weighted_distance_15_test_method2)\n",
    "\n",
    "\n",
    "scaler = StandardScaler()\n",
    "weighted_distance_12_test = scaler.fit_transform(weighted_distance_12_test)\n",
    "weighted_distance_23_test = scaler.fit_transform(weighted_distance_23_test )\n",
    "weighted_distance_34_test = scaler.fit_transform(weighted_distance_34_test)\n",
    "weighted_distance_45_test = scaler.fit_transform(weighted_distance_45_test)"
   ]
  },
  {
   "cell_type": "code",
   "execution_count": null,
   "metadata": {},
   "outputs": [],
   "source": [
    "\n",
    "#weighted_distance_15_test.shape"
   ]
  },
  {
   "cell_type": "code",
   "execution_count": null,
   "metadata": {},
   "outputs": [],
   "source": []
  },
  {
   "cell_type": "code",
   "execution_count": null,
   "metadata": {},
   "outputs": [],
   "source": []
  },
  {
   "cell_type": "code",
   "execution_count": null,
   "metadata": {},
   "outputs": [],
   "source": [
    "#appending the newly added column to the \n",
    "Data12_test_1 = np.append(Data12_test,weighted_distance_12_test,axis=1)\n",
    "Data23_test_1 = np.append(Data23_test,weighted_distance_23_test,axis=1)\n",
    "Data34_test_1 = np.append(Data34_test,weighted_distance_34_test,axis=1)\n",
    "Data45_test_1 = np.append(Data45_test,weighted_distance_45_test,axis=1)\n",
    "Data15_test_1 = np.append(Data15_test,weighted_distance_15_test,axis=1)\n",
    "\n",
    "\n",
    "#all data used for training\n",
    "data_all_test = np.concatenate((Data12_test_1,Data23_test_1,Data34_test_1,Data45_test_1,Data15_test_1),axis=0)\n",
    "\n",
    "data_all_test_method4 = np.concatenate((Data12_test,Data23_test,Data34_test,Data45_test,Data15_test),axis=0)\n",
    "#data_all = np.concatenate((data_all,weighted_distance_12,weighted_distance_23,weighted_distance_34,weighted_distance_45),axis=1)\n",
    "label_all_test = np.concatenate((Label12_test,Label23_test,Label34_test,Label45_test),axis=0)\n",
    "label_all_test_method4 = np.concatenate((Label12_test,Label23_test,Label34_test,Label45_test,Label15_test),axis=0)\n",
    "data_all_test.shape"
   ]
  },
  {
   "cell_type": "code",
   "execution_count": null,
   "metadata": {},
   "outputs": [],
   "source": [
    "## method 2 appending 4 separate weights to all data\n",
    "data_all_test_method2 = np.concatenate((Data12_test,Data23_test,Data34_test,Data45_test),axis=0)\n",
    "data_all_test_method2_clf = np.concatenate((Data12_test,Data23_test,Data34_test,Data45_test),axis=0)\n",
    "print(data_all_test_method2_clf.shape)\n",
    "y_test = np.concatenate((weighted_distance_12_test_method2,weighted_distance_23_test_method2,\n",
    "                    weighted_distance_34_test_method2,weighted_distance_45_test_method2),axis=1)\n",
    "data_all_test_method2 = np.append(data_all_test_method2,y_test,axis=1)\n",
    "data_all_test_method2.shape"
   ]
  },
  {
   "cell_type": "code",
   "execution_count": null,
   "metadata": {},
   "outputs": [],
   "source": [
    "##calculating new features based on predict proba method\n",
    "proba_test_1 = pd.DataFrame([0] * 1216)\n",
    "proba_test_2 = pd.DataFrame([0] * 1216)\n",
    "proba_test_3 = pd.DataFrame([0] * 1216)\n",
    "proba_test_4 = pd.DataFrame([0] * 1216)\n",
    "proba_test_5 = pd.DataFrame([0] * 1216)\n",
    "\n",
    "\n",
    "predict_proba_test_12 = svc_12_test.predict_proba(Data12_test)\n",
    "predict_proba_test_23 = svc_23_test.predict_proba(Data23_test)\n",
    "predict_proba_test_34 = svc_34_test.predict_proba(Data34_test)\n",
    "predict_proba_test_45 = svc_45_test.predict_proba(Data45_test)\n",
    "\n",
    "\n",
    "proba_test_1[0:501] = predict_proba_test_12[:,0]\n",
    "proba_test_2[0:501] = predict_proba_test_12[:,1]\n",
    "proba_test_2[501:733] = predict_proba_test_23[:,0].reshape(232,1)\n",
    "proba_test_3[501:733] = predict_proba_test_23[:,1].reshape(232,1)\n",
    "proba_test_3[733:937] = predict_proba_test_34[:,0].reshape(204,1)\n",
    "proba_test_4[733:937] = predict_proba_test_34[:,1].reshape(204,1)\n",
    "proba_test_4[937:1216] = predict_proba_test_45[:,0].reshape(279,1)\n",
    "proba_test_5[937:1216] = predict_proba_test_45[:,1].reshape(279,1)\n",
    "\n",
    "\n",
    "proba_test_2 = proba_test_2/2\n",
    "proba_test_3 = proba_test_3/2\n",
    "proba_test_4 = proba_test_4/2\n",
    "\n",
    "\n",
    "\n",
    "## method 3 appending 5 separate probabilities to all data\n",
    "data_all_test_method3 = np.concatenate((Data12_test,Data23_test,Data34_test,Data45_test),axis=0)\n",
    "y = np.concatenate((proba_test_1,proba_test_2,proba_test_3,proba_test_4,proba_test_5),axis=1)\n",
    "data_all_test_method3 = np.append(data_all_test_method3,y,axis=1)\n",
    "data_all_test_method3.shape"
   ]
  },
  {
   "cell_type": "code",
   "execution_count": null,
   "metadata": {},
   "outputs": [],
   "source": [
    "##calculating new features based on predict proba method for weight based classification\n",
    "proba_test_weight_1 = pd.DataFrame([0] * 1760)\n",
    "proba_test_weight_2 = pd.DataFrame([0] * 1760)\n",
    "proba_test_weight_3 = pd.DataFrame([0] * 1760)\n",
    "proba_test_weight_4 = pd.DataFrame([0] * 1760)\n",
    "proba_test_weight_5 = pd.DataFrame([0] * 1760)\n",
    "\n",
    "\n",
    "predict_proba_test_weight_12 = svc_12_test.predict_proba(data_all_test_method4)\n",
    "predict_proba_test_weight_23 = svc_23_test.predict_proba(data_all_test_method4)\n",
    "predict_proba_test_weight_34 = svc_34_test.predict_proba(data_all_test_method4)\n",
    "predict_proba_test_weight_45 = svc_45_test.predict_proba(data_all_test_method4)\n",
    "predict_proba_test_weight_15 = svc_15_test.predict_proba(data_all_test_method4)\n"
   ]
  },
  {
   "cell_type": "code",
   "execution_count": null,
   "metadata": {},
   "outputs": [],
   "source": [
    "proba_test_weight_1 = predict_proba_test_weight_12[:,0]+predict_proba_test_weight_15[:,0]\n",
    "proba_test_weight_2 = predict_proba_test_weight_12[:,1]+predict_proba_test_weight_23[:,0]\n",
    "proba_test_weight_3 = predict_proba_test_weight_23[:,1]+predict_proba_test_weight_34[:,0]\n",
    "proba_test_weight_4 = predict_proba_test_weight_34[:,1]+predict_proba_test_weight_45[:,0]\n",
    "proba_test_weight_5 = predict_proba_test_weight_45[:,1]+predict_proba_test_weight_15[:,1]"
   ]
  },
  {
   "cell_type": "code",
   "execution_count": null,
   "metadata": {},
   "outputs": [],
   "source": [
    "final_test_predictions_array = np.vstack((proba_test_weight_1,proba_test_weight_2,proba_test_weight_3,proba_test_weight_4,proba_test_weight_5)).T"
   ]
  },
  {
   "cell_type": "code",
   "execution_count": null,
   "metadata": {},
   "outputs": [],
   "source": [
    "final_test_predictions_method4 = np.argmax((final_test_predictions_array),axis=1)"
   ]
  },
  {
   "cell_type": "code",
   "execution_count": null,
   "metadata": {},
   "outputs": [],
   "source": [
    "final_test_predictions_method4 = final_test_predictions_method4+1"
   ]
  },
  {
   "cell_type": "code",
   "execution_count": null,
   "metadata": {},
   "outputs": [],
   "source": [
    "c = confusion_matrix(label_all_test_method4,final_test_predictions_method4)\n",
    "\n",
    "print(\"confusion matrix for SVM: \\n \",c)"
   ]
  },
  {
   "cell_type": "code",
   "execution_count": null,
   "metadata": {},
   "outputs": [],
   "source": [
    "label_all_test.shape"
   ]
  },
  {
   "cell_type": "code",
   "execution_count": null,
   "metadata": {},
   "outputs": [],
   "source": [
    "data_all_test.shape"
   ]
  },
  {
   "cell_type": "code",
   "execution_count": null,
   "metadata": {},
   "outputs": [],
   "source": []
  },
  {
   "cell_type": "code",
   "execution_count": null,
   "metadata": {},
   "outputs": [],
   "source": [
    "##fitting the new data to the 4 svms\n",
    "svc_12_test.fit(Data12_test,Label12_test)\n",
    "svc_23_test.fit(Data23_test,Label23_test)\n",
    "svc_34_test.fit(Data34_test,Label34_test)\n",
    "svc_45_test.fit(Data45_test,Label45_test)\n"
   ]
  },
  {
   "cell_type": "code",
   "execution_count": null,
   "metadata": {},
   "outputs": [],
   "source": [
    "## for whole data svm\n",
    "##OneVsOne Classifier for all testing set\n",
    "ovo = OneVsOneClassifier(svc)\n",
    "# Full training Data(which has all classes)\n",
    "clf_test  = GridSearchCV(ovo, parameters_ovo)\n",
    "# fit the training data to the model\n",
    "clf_test.fit(data_all_test,label_all_test_method4)\n",
    "print(clf_test.best_params_)\n"
   ]
  },
  {
   "cell_type": "code",
   "execution_count": null,
   "metadata": {},
   "outputs": [],
   "source": [
    "## for whole data svm\n",
    "##OneVsOne Classifier for all testing set\n",
    "ovo = OneVsOneClassifier(svc)\n",
    "# Full training Data(which has all classes)\n",
    "clf_test_method2  = GridSearchCV(ovo, parameters_ovo)\n",
    "# fit the training data to the model\n",
    "clf_test_method2.fit(data_all_test_method2,label_all_test)\n",
    "print(clf_test_method2.best_params_)\n"
   ]
  },
  {
   "cell_type": "code",
   "execution_count": null,
   "metadata": {},
   "outputs": [],
   "source": [
    "## for whole data svm\n",
    "##OneVsOne Classifier for all testing set\n",
    "ovo = OneVsOneClassifier(svc)\n",
    "# Full training Data(which has all classes)\n",
    "clf_test_method3  = GridSearchCV(ovo, parameters_ovo)\n",
    "# fit the training data to the model\n",
    "clf_test_method3.fit(data_all_test_method3,label_all_test)\n",
    "print(clf_test_method3.best_params_)\n"
   ]
  },
  {
   "cell_type": "code",
   "execution_count": null,
   "metadata": {},
   "outputs": [],
   "source": [
    "# For 5 separate models\n",
    "# Test model on testing Data\n",
    "testScore12 = svc_12_test.score(Data12_test,Label12_test)\n",
    "testScore23 = svc_23_test.score(Data23_test,Label23_test)\n",
    "testScore34 = svc_34_test.score(Data34_test,Label34_test)\n",
    "testScore45 = svc_45_test.score(Data45_test,Label45_test)\n",
    "testScore = clf.score(data_all_test,label_all_test_method4)\n",
    "testScore_ovo = clf_ovo.score(testData,testLabel)\n",
    "testScore_clf = clf_clf.score(data_all_test_method2_clf,label_all_test)\n",
    "testScore_method2 = clf_method2.score(data_all_test_method2,label_all_test)\n",
    "testScore_method3 = clf_method3.score(data_all_test_method3,label_all_test)\n",
    "\n",
    "# Test models on Trainig Data\n",
    "print (\"Testing Score_12: \",testScore12)\n",
    "print (\"Testing Score_23: \",testScore23)\n",
    "print (\"Testing Score_34: \",testScore34)\n",
    "print (\"Testing Score_45: \",testScore45)\n",
    "print (\"full test data on single model Testing Score_Test: \",testScore)\n",
    "print (\"full test data on single model Testing Score_Test_ovo: \",testScore_ovo)\n",
    "print (\"full test data on single model Testing Score_Test_clf: \",testScore_clf)\n",
    "print (\"full test data on single model Testing Score_Test method 2: \",testScore_method2)\n",
    "print (\"full test data on single model Testing Score_Test method 3: \",testScore_method3)"
   ]
  },
  {
   "cell_type": "code",
   "execution_count": null,
   "metadata": {},
   "outputs": [],
   "source": [
    "data_all_test_method3.shape"
   ]
  },
  {
   "cell_type": "code",
   "execution_count": null,
   "metadata": {},
   "outputs": [],
   "source": [
    "final_test_predictions_array_3 = np.concatenate((proba_test_1,proba_test_2,proba_test_3,proba_test_4,proba_test_5),axis=1)\n",
    "\n",
    "final_test_predictions_method3 = np.argmax((final_test_predictions_array_3),axis=1)\n",
    "\n",
    "final_test_predictions_method3 = final_test_predictions_method3+1\n",
    "\n",
    "c = confusion_matrix(label_all_test,final_test_predictions_method3)\n",
    "\n"
   ]
  },
  {
   "cell_type": "code",
   "execution_count": null,
   "metadata": {},
   "outputs": [],
   "source": [
    "predictedLabel = svc_12_test.predict(Data12_test)\n",
    "\n",
    "c = confusion_matrix(Label12_test,predictedLabel)\n",
    "\n",
    "print(\"confusion matrix for SVM: \\n \",c)\n",
    "\n",
    "testScore = svc_12_test.score(Data12_test,Label12_test)\n",
    "print(testScore)\n",
    "from sklearn.metrics import f1_score,recall_score,accuracy_score,plot_roc_curve\n",
    "from sklearn.metrics import precision_score\n",
    "print(\"accuracy:\", accuracy_score(Label12_test, predictedLabel))\n",
    "print(\"precision:\", precision_score(Label12_test, predictedLabel, average='weighted'))\n",
    "print(\"recall:\", recall_score(Label12_test, predictedLabel, average='weighted'))\n",
    "print(\"f1_score:\", f1_score(Label12_test, predictedLabel, average='weighted'))"
   ]
  },
  {
   "cell_type": "code",
   "execution_count": null,
   "metadata": {},
   "outputs": [],
   "source": [
    "predictedLabel = svc_23_test.predict(Data23_test)\n",
    "\n",
    "c = confusion_matrix(Label23_test,predictedLabel)\n",
    "\n",
    "print(\"confusion matrix for SVM: \\n \",c)\n",
    "\n",
    "from sklearn.metrics import f1_score,recall_score,accuracy_score,plot_roc_curve\n",
    "from sklearn.metrics import precision_score\n",
    "print(\"accuracy:\", accuracy_score(Label23_test, predictedLabel))\n",
    "print(\"precision:\", precision_score(Label23_test, predictedLabel, average='weighted'))\n",
    "print(\"recall:\", recall_score(Label23_test, predictedLabel, average='weighted'))\n",
    "print(\"f1_score:\", f1_score(Label23_test, predictedLabel, average='weighted'))"
   ]
  },
  {
   "cell_type": "code",
   "execution_count": null,
   "metadata": {},
   "outputs": [],
   "source": [
    "predictedLabel = svc_34_test.predict(Data34_test)\n",
    "\n",
    "c = confusion_matrix(Label34_test,predictedLabel)\n",
    "\n",
    "print(\"confusion matrix for SVM: \\n \",c)\n",
    "\n",
    "from sklearn.metrics import f1_score,recall_score,accuracy_score,plot_roc_curve\n",
    "from sklearn.metrics import precision_score\n",
    "print(\"accuracy:\", accuracy_score(Label34_test, predictedLabel))\n",
    "print(\"precision:\", precision_score(Label34_test, predictedLabel, average='weighted'))\n",
    "print(\"recall:\", recall_score(Label34_test, predictedLabel, average='weighted'))\n",
    "print(\"f1_score:\", f1_score(Label34_test, predictedLabel, average='weighted'))"
   ]
  },
  {
   "cell_type": "code",
   "execution_count": null,
   "metadata": {},
   "outputs": [],
   "source": [
    "predictedLabel = svc_45_test.predict(Data45_test)\n",
    "\n",
    "c = confusion_matrix(Label45_test,predictedLabel)\n",
    "\n",
    "print(\"confusion matrix for SVM: \\n \",c)\n",
    "\n",
    "from sklearn.metrics import f1_score,recall_score,accuracy_score,plot_roc_curve\n",
    "from sklearn.metrics import precision_score\n",
    "print(\"accuracy:\", accuracy_score(Label45_test, predictedLabel))\n",
    "print(\"precision:\", precision_score(Label45_test, predictedLabel, average='weighted'))\n",
    "print(\"recall:\", recall_score(Label45_test, predictedLabel, average='weighted'))\n",
    "print(\"f1_score:\", f1_score(Label45_test, predictedLabel, average='weighted'))"
   ]
  },
  {
   "cell_type": "code",
   "execution_count": null,
   "metadata": {},
   "outputs": [],
   "source": [
    "from sklearn.metrics import f1_score,recall_score,accuracy_score,plot_roc_curve\n",
    "from sklearn.metrics import precision_score\n",
    "print(\"accuracy:\", accuracy_score(label_all_test, final_test_predictions_method3))\n",
    "print(\"precision:\", precision_score(label_all_test, final_test_predictions_method3, average='weighted'))\n",
    "print(\"recall:\", recall_score(label_all_test, final_test_predictions_method3, average='weighted'))\n",
    "print(\"f1_score:\", f1_score(label_all_test, final_test_predictions_method3, average='weighted'))"
   ]
  },
  {
   "cell_type": "code",
   "execution_count": null,
   "metadata": {},
   "outputs": [],
   "source": [
    "predictedLabel = clf_ovo.predict(testData)\n",
    "\n",
    "c = confusion_matrix(testLabel,predictedLabel)\n",
    "\n",
    "print(\"confusion matrix for SVM: \\n \",c)\n",
    "\n",
    "testScore = clf_ovo.score(testData,testLabel)\n",
    "print(testScore)\n",
    "from sklearn.metrics import f1_score,recall_score,accuracy_score,plot_roc_curve\n",
    "from sklearn.metrics import precision_score\n",
    "print(\"accuracy:\", accuracy_score(testLabel, predictedLabel))\n",
    "print(\"precision:\", precision_score(testLabel, predictedLabel, average='weighted'))\n",
    "print(\"recall:\", recall_score(testLabel, predictedLabel, average='weighted'))\n",
    "print(\"f1_score:\", f1_score(testLabel, predictedLabel, average='weighted'))"
   ]
  },
  {
   "cell_type": "code",
   "execution_count": null,
   "metadata": {},
   "outputs": [],
   "source": [
    "predictedLabel = clf_method3.predict(data_all_test_method3)\n",
    "\n",
    "c = confusion_matrix(label_all_test,predictedLabel)\n",
    "\n",
    "print(\"confusion matrix for SVM: \\n \",c)\n",
    "\n",
    "testScore = clf_method3.score(data_all_test_method3,label_all_test)\n",
    "print(testScore)\n",
    "from sklearn.metrics import f1_score,recall_score,accuracy_score,plot_roc_curve\n",
    "from sklearn.metrics import precision_score\n",
    "print(\"accuracy:\", accuracy_score(label_all_test, predictedLabel))\n",
    "print(\"precision:\", precision_score(label_all_test, predictedLabel, average='weighted'))\n",
    "print(\"recall:\", recall_score(label_all_test, predictedLabel, average='weighted'))\n",
    "print(\"f1_score:\", f1_score(label_all_test, predictedLabel, average='weighted'))"
   ]
  },
  {
   "cell_type": "code",
   "execution_count": null,
   "metadata": {},
   "outputs": [],
   "source": [
    "plot_roc_curve(svc_23_test, Data23_test, Label23_test) "
   ]
  },
  {
   "cell_type": "code",
   "execution_count": null,
   "metadata": {},
   "outputs": [],
   "source": [
    "votingClassifier1 = SVC(C=100,kernel='linear',probability=True)\n",
    "votingClassifier2 = SVC(C=100,kernel='linear',probability=True)\n",
    "votingClassifier3 = SVC(C=100,kernel='linear',probability=True)\n",
    "votingClassifier4 = SVC(C=10,kernel='linear',probability=True)\n",
    "votingClassifier5 = SVC(C=10,kernel='linear',probability=True)\n"
   ]
  },
  {
   "cell_type": "code",
   "execution_count": null,
   "metadata": {},
   "outputs": [],
   "source": [
    "final_test_predictions_method3.shape"
   ]
  },
  {
   "cell_type": "code",
   "execution_count": null,
   "metadata": {},
   "outputs": [],
   "source": []
  },
  {
   "cell_type": "code",
   "execution_count": null,
   "metadata": {},
   "outputs": [],
   "source": [
    "##Combined classifier\n",
    "combinedClassifier = EnsembleVoteClassifier(clfs=[votingClassifier1, votingClassifier2,\n",
    "                                    votingClassifier3,votingClassifier4,votingClassifier5],voting='soft')"
   ]
  },
  {
   "cell_type": "code",
   "execution_count": null,
   "metadata": {},
   "outputs": [],
   "source": [
    "combinedClassifier.fit(data1,label1)"
   ]
  },
  {
   "cell_type": "code",
   "execution_count": null,
   "metadata": {},
   "outputs": [],
   "source": [
    "score = combinedClassifier.score(testData,testLabel)"
   ]
  },
  {
   "cell_type": "code",
   "execution_count": null,
   "metadata": {},
   "outputs": [],
   "source": [
    "print(score)"
   ]
  },
  {
   "cell_type": "code",
   "execution_count": null,
   "metadata": {},
   "outputs": [],
   "source": [
    "predictedLabel = combinedClassifier.predict(testData)"
   ]
  },
  {
   "cell_type": "code",
   "execution_count": null,
   "metadata": {},
   "outputs": [],
   "source": [
    "c = confusion_matrix(testLabel,predictedLabel)\n",
    "\n",
    "print(\"confusion matrix for SVM: \\n \",c)"
   ]
  },
  {
   "cell_type": "code",
   "execution_count": null,
   "metadata": {},
   "outputs": [],
   "source": [
    "labels = ['svm1','svm2','svm3','svm4','svm5']\n",
    "for clf, label in zip([votingClassifier1,votingClassifier2, votingClassifier3, votingClassifier4,votingClassifier5], labels):\n",
    "\n",
    "    scores = model_selection.cross_val_score(clf, data1, label1, \n",
    "                                              cv=5, \n",
    "                                              scoring='accuracy')\n",
    "    print(\"Accuracy: %0.2f (+/- %0.2f) [%s]\"\n",
    "          % (scores.mean(), scores.std(), label))"
   ]
  },
  {
   "cell_type": "code",
   "execution_count": null,
   "metadata": {},
   "outputs": [],
   "source": [
    "# votingClassifers.get_params().keys()\n",
    "## parameters to be used for voting classifiers\n",
    "params = {\n",
    "      'estimator__svm__C': [1,10,100],'estimator__svm__kernel':[\"linear\",\"rbf\"]}"
   ]
  },
  {
   "cell_type": "code",
   "execution_count": null,
   "metadata": {},
   "outputs": [],
   "source": []
  },
  {
   "cell_type": "code",
   "execution_count": null,
   "metadata": {},
   "outputs": [],
   "source": []
  },
  {
   "cell_type": "code",
   "execution_count": null,
   "metadata": {},
   "outputs": [],
   "source": []
  },
  {
   "cell_type": "code",
   "execution_count": null,
   "metadata": {},
   "outputs": [],
   "source": [
    "##OneVsOne Classifier for all training set\n",
    "ovo = OneVsOneClassifier(svc)\n",
    "# Full training Data(which has all classes)\n",
    "clf  = GridSearchCV(ovo, parameters_ovo)\n",
    "# fit the training data to the model\n",
    "clf.fit(data1,label1)\n",
    "print(clf.best_params_)\n"
   ]
  },
  {
   "cell_type": "code",
   "execution_count": null,
   "metadata": {},
   "outputs": [],
   "source": [
    "##OneVsRest Classifier for all training set\n",
    "ovo = OneVsRestClassifier(svc)\n",
    "# Full training Data(which has all classes)\n",
    "clf  = GridSearchCV(ovo, parameters_ovo)\n",
    "# fit the training data to the model\n",
    "clf.fit(data1,label1)\n",
    "print(clf.best_params_)"
   ]
  },
  {
   "cell_type": "code",
   "execution_count": null,
   "metadata": {},
   "outputs": [],
   "source": [
    "##Combined classifier\n",
    "combinedClassifier = EnsembleVoteClassifier(clfs=[clf12, clf23,\n",
    "                                    clf34,clf45,clf15],voting='soft')\n",
    "\n",
    "combinedClassifier.fit(data1,label1)\n",
    "\n",
    "score = combinedClassifier.score(testData,testLabel)\n",
    "\n",
    "print(score)\n",
    "\n",
    "predictedLabel = combinedClassifier.predict(testData)\n",
    "\n",
    "c = confusion_matrix(testLabel,predictedLabel)\n",
    "\n",
    "print(\"confusion matrix for SVM: \\n \",c)"
   ]
  },
  {
   "cell_type": "code",
   "execution_count": null,
   "metadata": {},
   "outputs": [],
   "source": [
    "# For C = 100\n",
    "# Test model on Trainig Data\n",
    "trainScore12 = clf12.score(Data12,Label12)\n",
    "trainScore23 = clf23.score(Data23,Label23)\n",
    "trainScore34 = clf34.score(Data34,Label34)\n",
    "trainScore45 = clf45.score(Data45,Label45)\n",
    "trainScore15 = clf15.score(Data15,Label15)\n",
    "trainScore = clf.score(data1,label1)\n",
    "\n",
    "# Test models on Trainig Data\n",
    "print (\"Training Score_12: \",trainScore12)\n",
    "print (\"Training Score_23: \",trainScore23)\n",
    "print (\"Training Score_34: \",trainScore34)\n",
    "print (\"Training Score_45: \",trainScore45)\n",
    "print (\"Training Score_15: \",trainScore15)\n",
    "print (\"Training Score_Train: \",trainScore)\n",
    "\n"
   ]
  },
  {
   "cell_type": "code",
   "execution_count": null,
   "metadata": {},
   "outputs": [],
   "source": []
  },
  {
   "cell_type": "code",
   "execution_count": null,
   "metadata": {},
   "outputs": [],
   "source": [
    "# Test model on Testing Data\n",
    "testScore = clf.score(testData,testLabel)\n",
    "\n",
    "print (\"Testing Score: \", testScore)"
   ]
  },
  {
   "cell_type": "code",
   "execution_count": null,
   "metadata": {},
   "outputs": [],
   "source": [
    "predictedLabel = clf.predict(testData)\n",
    "\n",
    "c = confusion_matrix(testLabel,predictedLabel)\n",
    "\n",
    "print(\"confusion matrix for SVM: \\n \",c)\n"
   ]
  },
  {
   "cell_type": "code",
   "execution_count": null,
   "metadata": {},
   "outputs": [],
   "source": [
    "from sklearn.neighbors import KNeighborsClassifier\n",
    "from sklearn.naive_bayes import GaussianNB \n",
    "from sklearn.ensemble import RandomForestClassifier\n",
    "from sklearn.linear_model import LogisticRegression"
   ]
  },
  {
   "cell_type": "code",
   "execution_count": null,
   "metadata": {},
   "outputs": [],
   "source": [
    "knn = KNeighborsClassifier()\n",
    "gnb = GaussianNB()\n",
    "rf = RandomForestClassifier()\n",
    "lr = LogisticRegression()\n",
    "svm = SVC(C=100,kernel='rbf',probability=True)"
   ]
  },
  {
   "cell_type": "code",
   "execution_count": null,
   "metadata": {},
   "outputs": [],
   "source": [
    "classifiers = [('knn', knn),\n",
    "               ('gnb', gnb),\n",
    "               ('rf', rf),\n",
    "               ('svm', svm)]\n",
    "vc = VotingClassifier(estimators=classifiers, voting='hard')"
   ]
  },
  {
   "cell_type": "code",
   "execution_count": null,
   "metadata": {},
   "outputs": [],
   "source": [
    "params = {'voting':['hard', 'soft'],\n",
    "          'weights':[(1,1,1,1), (2,1,1,1), (1,2,1,1), (1,1,2,1), (1,1,1,2)]}"
   ]
  },
  {
   "cell_type": "code",
   "execution_count": null,
   "metadata": {},
   "outputs": [],
   "source": [
    "# find the best set of parameters\n",
    "grid = GridSearchCV(estimator=vc, param_grid=params, cv=5, scoring='accuracy')\n",
    "grid.fit(data1, label1)"
   ]
  },
  {
   "cell_type": "code",
   "execution_count": null,
   "metadata": {},
   "outputs": [],
   "source": [
    "print(grid.best_params_) \n",
    "print('vc cross_val_score with GridSearch:' + str(cross_val_score(grid, data1, label1, scoring='accuracy', cv=10).mean()))"
   ]
  },
  {
   "cell_type": "code",
   "execution_count": null,
   "metadata": {},
   "outputs": [],
   "source": [
    "print('vc cross_val_score with GridSearch:' + str(cross_val_score(svm, data1, label1, scoring='accuracy', cv=10).mean()))\n",
    "print('vc cross_val_score with GridSearch:' + str(cross_val_score(rf, data1, label1, scoring='accuracy', cv=10).mean()))\n",
    "print('vc cross_val_score with GridSearch:' + str(cross_val_score(gnb, data1, label1, scoring='accuracy', cv=10).mean()))\n",
    "print('vc cross_val_score with GridSearch:' + str(cross_val_score(knn, data1, label1, scoring='accuracy', cv=10).mean()))"
   ]
  },
  {
   "cell_type": "code",
   "execution_count": null,
   "metadata": {},
   "outputs": [],
   "source": []
  },
  {
   "cell_type": "code",
   "execution_count": null,
   "metadata": {},
   "outputs": [],
   "source": [
    "##creating 4 different classifiers for voting\n",
    "votingClassifier1 = SVC(C=100,kernel='rbf',probability=True)\n",
    "votingClassifier2 = knn\n",
    "votingClassifier3 = gnb\n",
    "votingClassifier4 = rf\n",
    "\n",
    "\n",
    "##Combined classifier\n",
    "combinedClassifier = EnsembleVoteClassifier(clfs=[votingClassifier1, votingClassifier2,\n",
    "                                    votingClassifier3,votingClassifier4],voting='hard',weights=[])\n",
    "\n",
    "combinedClassifier.fit(data1,label1)\n",
    "\n",
    "score = combinedClassifier.score(testData,testLabel)\n",
    "\n",
    "print(score)\n",
    "\n",
    "predictedLabel = combinedClassifier.predict(testData)\n",
    "\n",
    "c = confusion_matrix(testLabel,predictedLabel)\n",
    "\n",
    "print(\"confusion matrix for SVM: \\n \",c)"
   ]
  },
  {
   "cell_type": "code",
   "execution_count": null,
   "metadata": {},
   "outputs": [],
   "source": [
    "from sklearn import svm\n",
    "from sklearn import datasets\n",
    "from numpy import argmax, zeros\n",
    "from itertools import combinations\n",
    "\n",
    "# do pairwise comparisons, return class with most +1 votes\n",
    "def ovo_vote(classes, decision_function):\n",
    "    combos = list(combinations(classes, 2))\n",
    "    votes = zeros(len(classes))\n",
    "    for i in range(len(decision_function[0])):\n",
    "        if decision_function[0][i] > 0:\n",
    "            votes[combos[i][0]] = votes[combos[i][0]] + 1\n",
    "        else:\n",
    "            votes[combos[i][1]] = votes[combos[i][1]] + 1\n",
    "    winner = argmax(votes)\n",
    "    return classes[winner]\n",
    "\n",
    "# load the digits data set\n",
    "digits = datasets.load_digits()\n",
    "\n",
    "X, y = digits.data, digits.target\n",
    "\n",
    "# set the SVC's decision function shape to \"ovo\"\n",
    "estimator = svm.SVC(gamma=0.001, C=100., decision_function_shape='ovo')\n",
    "\n",
    "# train SVC on all but the last digit\n",
    "estimator.fit(X.data[:-1], y[:-1])\n",
    "\n",
    "# print the value of the last digit\n",
    "print(\"To be classified digit: \", y[-1:][0])\n",
    "\n",
    "# print the predicted class\n",
    "pred = estimator.predict(X[-1:])\n",
    "print(\"Perform classification using predict: \", pred[0])\n",
    "\n",
    "# get decision function\n",
    "df = estimator.decision_function(X[-1:])\n",
    "\n",
    "# print the decision function itself\n",
    "print(\"Decision function consists of\",len(df[0]),\"elements:\")\n",
    "print(df)\n",
    "\n",
    "# get classes, here, numbers 0 to 9\n",
    "digits = estimator.classes_\n",
    "\n",
    "# print which class has most votes\n",
    "vote = ovo_vote(digits, df)\n",
    "print(\"Perform classification using decision function: \", vote)"
   ]
  },
  {
   "cell_type": "code",
   "execution_count": null,
   "metadata": {},
   "outputs": [],
   "source": [
    "Training :\n",
    "\n",
    "1. fit training data with 4 svms (12,23,34,45) \n",
    "2. Get the distance of each point from each svm.\n",
    "3. take the inverse of the distance and weigh them based on their distance. (1/distance)\n",
    "4. get the weight feature for each svm. so, we now have 4 weight features\n",
    "5. create a new training data by adding these 4 weight features to the original feature set.\n",
    "6. train a new svm with the updated feature set.\n"
   ]
  },
  {
   "cell_type": "code",
   "execution_count": null,
   "metadata": {},
   "outputs": [],
   "source": [
    "n = 6\n",
    "unique_value = 25\n",
    "df = pd.DataFrame([0] * 6215)"
   ]
  },
  {
   "cell_type": "code",
   "execution_count": null,
   "metadata": {},
   "outputs": [],
   "source": [
    "df[0:2415] =1"
   ]
  },
  {
   "cell_type": "code",
   "execution_count": null,
   "metadata": {},
   "outputs": [],
   "source": [
    "df[0:1324] = weighted_distance_23"
   ]
  },
  {
   "cell_type": "code",
   "execution_count": null,
   "metadata": {},
   "outputs": [],
   "source": []
  },
  {
   "cell_type": "code",
   "execution_count": null,
   "metadata": {},
   "outputs": [],
   "source": []
  },
  {
   "cell_type": "code",
   "execution_count": null,
   "metadata": {},
   "outputs": [],
   "source": [
    "a =[0.22452880315825172,\n",
    "  0.048579893342551146,\n",
    "  0.04048607116243962,\n",
    "  0.03724156869254235,\n",
    "  0.035561160719685854,\n",
    "  0.0345079590962536,\n",
    "  0.033745513447485435,\n",
    "  0.03321040686134292,\n",
    "  0.032778946340255355,\n",
    "  0.0326324795833093,\n",
    "  0.03220555809294355,\n",
    "  0.032026106438160624,\n",
    "  0.03182049629803019,\n",
    "  0.03165729025956886,\n",
    "  0.031726337134324274,\n",
    "  0.031496734807974304,\n",
    "  0.03154588534614478,\n",
    "  0.03139975507497445,\n",
    "  0.03131634203567245,\n",
    "  0.031187965630971152,\n",
    "  0.031127746313296515,\n",
    "  0.031158252544272905,\n",
    "  0.031067658515497185,\n",
    "  0.03112247082051532,\n",
    "  0.030989020816639238,\n",
    "  0.031053107028463107,\n",
    "  0.030938184520379566,\n",
    "  0.03102094028145075,\n",
    "  0.030949111171494955,\n",
    "  0.030972676779860736,\n",
    "  0.03087784610046395,\n",
    "  0.030942272052340125,\n",
    "  0.030855305578516817,\n",
    "  0.03081783686561146,\n",
    "  0.03089760424804756,\n",
    "  0.03075878873424626,\n",
    "  0.030962879758799213,\n",
    "  0.03073169847672013,\n",
    "  0.030775556843941926,\n",
    "  0.030665225649102665,\n",
    "  0.030720330946061802,\n",
    "  0.03070017345378111,\n",
    "  0.030704624640444916,\n",
    "  0.030642559109576816,\n",
    "  0.030601925762562918,\n",
    "  0.03064092469198265,\n",
    "  0.030603523494611526,\n",
    "  0.03059471559164853,\n",
    "  0.030651794072112132,\n",
    "  0.030546564437534618]\n",
    "b =  [3.589091078988437,\n",
    "  4.481736035182558,\n",
    "  5.016183943584047,\n",
    "  5.442383198902525,\n",
    "  5.764519009096869,\n",
    "  6.057287947884921,\n",
    "  6.296977536431674,\n",
    "  6.514841416786457,\n",
    "  6.710365936673921,\n",
    "  6.880084341969983,\n",
    "  7.0606723736072405,\n",
    "  7.212363152668394,\n",
    "  7.35696869883044,\n",
    "  7.49849035822112,\n",
    "  7.637488233632054,\n",
    "  7.764148531288936,\n",
    "  7.863014517159297,\n",
    "  7.987774240559545,\n",
    "  8.096586605598187,\n",
    "  8.210740977320178,\n",
    "  8.296955881447628,\n",
    "  8.418228297398008,\n",
    "  8.51115267852257,\n",
    "  8.597273185335357,\n",
    "  8.700600361001902,\n",
    "  8.7906368025418,\n",
    "  8.861971953819538,\n",
    "  8.952669324546024,\n",
    "  9.034415623237347,\n",
    "  9.135198938435522,\n",
    "  9.207485083875985,\n",
    "  9.288046771082385,\n",
    "  9.381099092549292,\n",
    "  9.4654855070443,\n",
    "  9.527684951650686,\n",
    "  9.595995623489905,\n",
    "  9.664462007325271,\n",
    "  9.730439580720047,\n",
    "  9.820095473322375,\n",
    "  9.895090547101251,\n",
    "  9.971030925882273,\n",
    "  9.990084105524524,\n",
    "  10.079096695472455,\n",
    "  10.115385483051169,\n",
    "  10.166918968332224,\n",
    "  10.248737269434436,\n",
    "  10.293530793025576,\n",
    "  10.360718102290713,\n",
    "  10.42850819949446,\n",
    "  10.478480191066348]"
   ]
  },
  {
   "cell_type": "code",
   "execution_count": null,
   "metadata": {},
   "outputs": [],
   "source": [
    "c =[3.589091078988437]\n",
    "for i in range(len(b)-1):\n",
    "    c.append(b[i+1]-b[i])\n",
    "    \n",
    "    "
   ]
  },
  {
   "cell_type": "code",
   "execution_count": null,
   "metadata": {},
   "outputs": [],
   "source": [
    "c"
   ]
  },
  {
   "cell_type": "code",
   "execution_count": null,
   "metadata": {},
   "outputs": [],
   "source": [
    "from matplotlib import pyplot\n",
    "\n",
    "fig, axs = pyplot.subplots()\n",
    "\n",
    "line1 = axs.plot(\n",
    "    [i for i in range(len(a))], a, label=\"Train loss\",\n",
    ")\n",
    "# axs[2].title.set_text(\"AKI Recall\")\n",
    "line2 = axs.plot(\n",
    "    [i for i in range(len(c))], c, label=\"Validation loss\"\n",
    ")\n",
    "\n",
    "# axs[0].set_axisbelow(True)\n",
    "# axs[0].yaxis.grid(color=\"gray\", linestyle=\"dashed\")\n",
    "# axs[0].xaxis.grid(color=\"gray\", linestyle=\"dashed\")\n",
    "\n",
    "axs.legend()\n",
    "\n",
    "pyplot.show()\n"
   ]
  },
  {
   "cell_type": "code",
   "execution_count": null,
   "metadata": {},
   "outputs": [],
   "source": []
  }
 ],
 "metadata": {
  "kernelspec": {
   "display_name": "Python 3",
   "language": "python",
   "name": "python3"
  },
  "language_info": {
   "codemirror_mode": {
    "name": "ipython",
    "version": 3
   },
   "file_extension": ".py",
   "mimetype": "text/x-python",
   "name": "python",
   "nbconvert_exporter": "python",
   "pygments_lexer": "ipython3",
   "version": "3.8.5"
  }
 },
 "nbformat": 4,
 "nbformat_minor": 2
}
